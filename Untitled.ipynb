{
 "cells": [
  {
   "cell_type": "code",
   "execution_count": 1,
   "metadata": {
    "collapsed": true
   },
   "outputs": [],
   "source": [
    "%matplotlib inline"
   ]
  },
  {
   "cell_type": "code",
   "execution_count": 2,
   "metadata": {
    "collapsed": true
   },
   "outputs": [],
   "source": [
    "import networkx as nx\n",
    "import numpy as np\n",
    "import pandas as pd\n",
    "import projx as px\n",
    "import matplotlib.pyplot as plt"
   ]
  },
  {
   "cell_type": "code",
   "execution_count": 5,
   "metadata": {
    "collapsed": true
   },
   "outputs": [],
   "source": [
    "g = nx.read_gexf(\"projections/onemode.gexf\")"
   ]
  },
  {
   "cell_type": "code",
   "execution_count": 6,
   "metadata": {
    "collapsed": false
   },
   "outputs": [],
   "source": [
    "authors = [n for (n, a) in g.nodes(data=True) if a.get(\"role\") == \"author\"]\n",
    "patrons = [n for (n, a) in g.nodes(data=True) if a.get(\"role\") == \"patron\"]\n",
    "printers = [n for (n, a) in g.nodes(data=True) if a.get(\"role\") == \"printer/editor\"]\n",
    "signatories = [n for (n, a) in g.nodes(data=True) if a.get(\"role\") == \"signatory\"]"
   ]
  },
  {
   "cell_type": "code",
   "execution_count": 19,
   "metadata": {
    "collapsed": true
   },
   "outputs": [],
   "source": [
    "def patrons_per_author(authors, patrons):\n",
    "    out = {}\n",
    "    for a in authors:\n",
    "        out.setdefault(a, 0)\n",
    "        nbrs = set(g[a])\n",
    "        for n in nbrs:\n",
    "            if n in patrons:\n",
    "                out[a] += 1\n",
    "    return out"
   ]
  },
  {
   "cell_type": "code",
   "execution_count": 20,
   "metadata": {
    "collapsed": false
   },
   "outputs": [
    {
     "data": {
      "text/plain": [
       "{'140': 1,\n",
       " '143': 1,\n",
       " '148': 1,\n",
       " '170': 1,\n",
       " '183': 1,\n",
       " '189': 1,\n",
       " '198': 1,\n",
       " '208': 3,\n",
       " '25': 1,\n",
       " '252': 1,\n",
       " '264': 1,\n",
       " '295': 2,\n",
       " '310': 2,\n",
       " '331': 3,\n",
       " '336': 2,\n",
       " '34': 0,\n",
       " '357': 0,\n",
       " '358': 0,\n",
       " '368': 2,\n",
       " '372': 1,\n",
       " '380': 0,\n",
       " '381': 0,\n",
       " '382': 0,\n",
       " '385': 0,\n",
       " '386': 0,\n",
       " '387': 0,\n",
       " '388': 0,\n",
       " '399': 2,\n",
       " '412': 0,\n",
       " '43': 1,\n",
       " '431': 3,\n",
       " '434': 2,\n",
       " '438': 3,\n",
       " '440': 17,\n",
       " '441': 1,\n",
       " '70': 4}"
      ]
     },
     "execution_count": 20,
     "metadata": {},
     "output_type": "execute_result"
    }
   ],
   "source": [
    "patrons_per_author(authors, patrons)"
   ]
  },
  {
   "cell_type": "code",
   "execution_count": 25,
   "metadata": {
    "collapsed": false
   },
   "outputs": [
    {
     "data": {
      "text/plain": [
       "{'author': u\"{'true': 5}\",\n",
       " 'avg_date': u'1612',\n",
       " 'doc_type': u\"{u'Obra': 5, u'Privilegio/Licencia': 6}\",\n",
       " 'fecha': u\"{'1604-09-26': 1, '1614-05-10': 1, '1616-02-04': 1, '1617-01-27': 1, '1614-10-18': 1, '1615-03-30': 1, '1617-01-21': 1, '1612-11-22': 1, '1617-06-04': 1, '1617-11-17': 1, '1605-03-29': 1, '1617-01-01': 4, '1605-07-18': 1, '1613-08-09': 1, '1614-11-17': 1, '1605-03-01': 1, '1607-03-07': 1, '1605-02-09': 2, '1617-09-24': 1, '1615-01-01': 2, '1614-01-11': 1, '1618-01-01': 1, '1615-11-05': 1, '1617-01-17': 1, '1613-08-12': 1, '1608-06-25': 1, '1605-01-01': 1}\",\n",
       " 'genero': u\"{'Ficcion': 25, 'Poesia': 1}\",\n",
       " 'label': 'Miguel de Cervantes Saavedra',\n",
       " 'lugar': u\"{u'Pamplona': 4, u'Madrid': 12, u'Bruselas': 5, u'Barcelona': 3, u'Milan': 1, u'Valladolid': 2, u'Lisboa': 4, u'Valencia': 1}\",\n",
       " 'real': u\"{'True': 1}\",\n",
       " 'role': u'author',\n",
       " 'second_genre': u'Poesia',\n",
       " 'second_place': u'Bruselas',\n",
       " 'top_genre': u'Ficcion',\n",
       " 'top_place': u'Madrid',\n",
       " 'type': u'Persona'}"
      ]
     },
     "execution_count": 25,
     "metadata": {},
     "output_type": "execute_result"
    }
   ],
   "source": [
    "g.node[\"208\"]"
   ]
  },
  {
   "cell_type": "code",
   "execution_count": null,
   "metadata": {
    "collapsed": true
   },
   "outputs": [],
   "source": []
  },
  {
   "cell_type": "code",
   "execution_count": null,
   "metadata": {
    "collapsed": true
   },
   "outputs": [],
   "source": []
  },
  {
   "cell_type": "code",
   "execution_count": null,
   "metadata": {
    "collapsed": true
   },
   "outputs": [],
   "source": []
  }
 ],
 "metadata": {
  "kernelspec": {
   "display_name": "Python 2",
   "language": "python",
   "name": "python2"
  },
  "language_info": {
   "codemirror_mode": {
    "name": "ipython",
    "version": 2
   },
   "file_extension": ".py",
   "mimetype": "text/x-python",
   "name": "python",
   "nbconvert_exporter": "python",
   "pygments_lexer": "ipython2",
   "version": "2.7.6"
  }
 },
 "nbformat": 4,
 "nbformat_minor": 0
}
