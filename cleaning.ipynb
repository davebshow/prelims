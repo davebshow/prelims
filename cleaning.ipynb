{
 "metadata": {
  "name": "",
  "signature": "sha256:6aebe93b6e2f355fb8bd87f62185d479a0ad3492bca32c8f9c1291ebae46f65c"
 },
 "nbformat": 3,
 "nbformat_minor": 0,
 "worksheets": [
  {
   "cells": [
    {
     "cell_type": "code",
     "collapsed": false,
     "input": [
      "%matplotlib inline"
     ],
     "language": "python",
     "metadata": {},
     "outputs": [],
     "prompt_number": 2
    },
    {
     "cell_type": "code",
     "collapsed": false,
     "input": [
      "import json\n",
      "import networkx as nx\n",
      "import pandas as pd\n",
      "import projx as px\n",
      "import matplotlib.pyplot as plt"
     ],
     "language": "python",
     "metadata": {},
     "outputs": [],
     "prompt_number": 3
    },
    {
     "cell_type": "code",
     "collapsed": false,
     "input": [
      "plt.rcParams['figure.figsize'] = (12, 7)"
     ],
     "language": "python",
     "metadata": {},
     "outputs": [],
     "prompt_number": 4
    },
    {
     "cell_type": "heading",
     "level": 4,
     "metadata": {},
     "source": [
      "Dirty XML from Gephi"
     ]
    },
    {
     "cell_type": "code",
     "collapsed": false,
     "input": [
      "g = nx.read_graphml('data/full_prelims.graphml').to_undirected()\n",
      "g.nodes(data=True)[0]"
     ],
     "language": "python",
     "metadata": {},
     "outputs": [
      {
       "metadata": {},
       "output_type": "pyout",
       "prompt_number": 5,
       "text": [
        "('2318',\n",
        " {'Fecha': u'1605-04-01',\n",
        "  'Titulo': u'Erratas_Arcadia Madrid Cuesta 1605',\n",
        "  '[Schema] Type': u'Fe de erratas',\n",
        "  '[Schema] Type Id': u'153',\n",
        "  'b': 153,\n",
        "  'g': 153,\n",
        "  'label': u'Erratas_Arcadia Madrid Cuesta 1605',\n",
        "  'r': 153,\n",
        "  'size': 10.0,\n",
        "  'x': 379.74106,\n",
        "  'y': -81.48442})"
       ]
      }
     ],
     "prompt_number": 5
    },
    {
     "cell_type": "code",
     "collapsed": false,
     "input": [
      "# Process the data with a couple one-off functions.\n",
      "def process_graph(g):\n",
      "    graph = nx.Graph()\n",
      "    to_merge = [u'Fe de erratas', u'Tasa', u'Dedicatoria', u'Aprobacion', u'Carta',\n",
      "                u'Otro documento', u'Poema', u'Privilegio/Licencia']\n",
      "    ignore = ['x', 'y', 'r', 'size', 'b', 'g', '[Schema] Type', '[Schema] Type Id', 'label', 'Nombre']\n",
      "    rel_types = []\n",
      "    for n, attrs in g.nodes(data=True):\n",
      "        new_attrs = {k.lower(): v.replace('\"', \"\").encode('utf-8') for (k, v) in attrs.items() if k not in ignore}\n",
      "        graph.add_node(n, new_attrs)\n",
      "        node_type = g.node[n][\"[Schema] Type\"]\n",
      "        if node_type in to_merge:\n",
      "            graph.node[n][\"doc_type\"] = node_type\n",
      "            node_type = u'Documento'\n",
      "        graph.node[n][\"type\"] = node_type\n",
      "        graph.node[n][\"id\"] = n\n",
      "        graph.node[n][\"label\"] = g.node[n][\"label\"].replace('\"', '')     \n",
      "    for s, t, attrs in g.edges(data=True):\n",
      "        try:\n",
      "            rel_type = '{0}_{1}'.format(graph.node[s][\"type\"], graph.node[t][\"type\"])\n",
      "            rev_rel_type = '{0}_{1}'.format(graph.node[t][\"type\"], graph.node[s][\"type\"])\n",
      "            rel_type = rel_type.lower()\n",
      "            rev_rel_type = rev_rel_type.lower()\n",
      "            if rel_type not in rel_types and rev_rel_type not in rel_types:\n",
      "                rel_types.append(rel_type)\n",
      "            elif rev_rel_type in rel_types:\n",
      "                rel_type = rev_rel_type\n",
      "            new_attrs = {\"type\": rel_type}\n",
      "            graph.add_edge(s, t, new_attrs)\n",
      "        except KeyError:\n",
      "            print('Failed to add edge: {0}, {1} - No Allowed Relationship for RelTypeId {2}'.format(\n",
      "                s, t, attrs['[Schema] Allowed Relationship Id']\n",
      "            ))\n",
      "    return graph\n",
      "\n",
      "\n",
      "def temporal_subgraphs(g, start_date, end_date):\n",
      "    subgraphs = []\n",
      "    for x in range(start_date, end_date):\n",
      "        graph = nx.Graph()\n",
      "        for n, attrs in g.nodes(data=True):\n",
      "            if attrs[\"type\"] == \"Edicion\":\n",
      "                date = attrs.get(\"fecha\", {})\n",
      "                try:\n",
      "                    year = int(date.keys()[0].split(\"-\")[0])\n",
      "                except:\n",
      "                    year = 2000 \n",
      "                if year <= x:\n",
      "                    graph.add_node(n, dict(attrs))\n",
      "                    nbrs = set(g[n])\n",
      "                    for nbr in nbrs:\n",
      "                        if nbr not in graph:\n",
      "                            graph.add_node(nbr, dict(g.node[nbr]))\n",
      "                    edges = zip([n] * len(nbrs), nbrs)\n",
      "                    graph.add_edges_from(edges)\n",
      "        p = px.Projection(graph)\n",
      "        subgraph = p.execute(\"\"\"\n",
      "            MATCH (p1:Persona)-(e:Edicion)-(p2:Persona)\n",
      "            PROJECT (p1)-(p2)\n",
      "            METHOD JACCARD Edicion\n",
      "            DELETE e\n",
      "        \"\"\")\n",
      "        subgraphs.append(subgraph)\n",
      "    return subgraphs\n",
      "\n",
      "\n",
      "def process_projection(proj):\n",
      "    g = proj.copy()\n",
      "    for n, attrs in proj.nodes(data=True):\n",
      "        places = attrs.get(\"lugar\", {})\n",
      "        places = sorted(places, key=places.get, reverse=True)\n",
      "        dates = attrs.get(\"fecha\", {})\n",
      "        genres = attrs.get(\"genero\", {})\n",
      "        genres = sorted(genres, key=genres.get, reverse=True)\n",
      "        date_list= []\n",
      "        for k, v in dates.items():\n",
      "            year = k.split(\"-\")[0]\n",
      "            if year:\n",
      "                date_list += [int(year)] * v\n",
      "        if date_list:\n",
      "            avg_date = int(sum(date_list) / float(len(date_list)))\n",
      "        else:\n",
      "            avg_date = \"\"\n",
      "        if places:\n",
      "            top_place = places[0]\n",
      "            try:\n",
      "                second_place = places[1]\n",
      "            except IndexError:\n",
      "                second_place = \"\"\n",
      "        else:\n",
      "            top_place = \"\"\n",
      "            second_place = \"\"\n",
      "        if genres:\n",
      "            top_genre = genres[0]\n",
      "            try:\n",
      "                second_genre = genres[1]\n",
      "            except IndexError:\n",
      "                second_genre = \"\"\n",
      "        else:\n",
      "            top_genre = \"\"\n",
      "            second_genre = \"\"\n",
      "        g.node[n][\"avg_date\"] = avg_date\n",
      "        g.node[n][\"top_place\"] = top_place\n",
      "        g.node[n][\"top_genre\"] = top_genre\n",
      "        g.node[n][\"second_place\"] = second_place\n",
      "        g.node[n][\"second_genre\"] = second_genre\n",
      "    for s, t, attrs in proj.edges(data=True):\n",
      "        earliest_year = 2000\n",
      "        dates = attrs.get(\"fecha\", {})\n",
      "        for k, v in dates.items():\n",
      "            year = int(k.split(\"-\")[0])\n",
      "            if year < earliest_year:\n",
      "                earliest_year = year\n",
      "        g.adj[s][t][\"earliest_year\"] = earliest_year\n",
      "        g.adj[t][s][\"earliest_year\"] = earliest_year\n",
      "    return g"
     ],
     "language": "python",
     "metadata": {},
     "outputs": [],
     "prompt_number": 6
    },
    {
     "cell_type": "code",
     "collapsed": false,
     "input": [
      "graph = process_graph(g)"
     ],
     "language": "python",
     "metadata": {},
     "outputs": [],
     "prompt_number": 7
    },
    {
     "cell_type": "heading",
     "level": 4,
     "metadata": {},
     "source": [
      "Transfer the Lugar type as an attribute to documents, impressions, institutions:<br><br>\n",
      "\n",
      "(need to implement WHERE in MATCH statement and I could do this is one statement)"
     ]
    },
    {
     "cell_type": "code",
     "collapsed": false,
     "input": [
      "p1 = px.Projection(graph)\n",
      "sub1 = p1.execute(\"\"\"\n",
      "    MATCH GRAPH (l:Lugar)-(d:Documento)\n",
      "    TRANSFER (l)-(d)\n",
      "    METHOD ATTRS\n",
      "    SET lugar=l.label\n",
      "\"\"\")"
     ],
     "language": "python",
     "metadata": {},
     "outputs": [],
     "prompt_number": 8
    },
    {
     "cell_type": "code",
     "collapsed": false,
     "input": [
      "p2 = px.Projection(sub1)\n",
      "sub2 = p2.execute(\"\"\"\n",
      "    MATCH GRAPH (l:Lugar)-(i:Institucion)\n",
      "    TRANSFER (l)-(i)\n",
      "    METHOD ATTRS\n",
      "    SET lugar=l.label\n",
      "\"\"\")"
     ],
     "language": "python",
     "metadata": {},
     "outputs": [],
     "prompt_number": 9
    },
    {
     "cell_type": "code",
     "collapsed": false,
     "input": [
      "p3 = px.Projection(sub2)\n",
      "sub3 = p3.execute(\"\"\"\n",
      "    MATCH GRAPH (l:Lugar)-(i:Impresion)\n",
      "    TRANSFER (l)-(i)\n",
      "    METHOD ATTRS\n",
      "    SET lugar=l.label\n",
      "\"\"\")"
     ],
     "language": "python",
     "metadata": {},
     "outputs": [],
     "prompt_number": 10
    },
    {
     "cell_type": "heading",
     "level": 4,
     "metadata": {},
     "source": [
      "Refine the graph with some more fine tuned planned transfomations:"
     ]
    },
    {
     "cell_type": "code",
     "collapsed": false,
     "input": [
      "### TRANSFERS ###\n",
      "\n",
      "#Documento --> Persona: attrs - doc_type, fecha, lugar; edges - Edicion\n",
      "#Institucion --> wild: attrs - name\n",
      "#Impresion --> Persona: attrs - type, fecha, lugar; edges - Edicion\n",
      "#Impresion --> Edicion: attrs - lugar\n",
      "#Obra --> Edicion: attrs - genero\n",
      "#Edicion --> Obra: attrs - type, lugar, fecha\n",
      "#Obra --> Persona: attrs - type, lugar, fecha; edges - Edicion\n",
      "\n",
      "### PROJECTION ###\n",
      "\n",
      "#Persona -- Edicion -- Persona --> Persona -- Persona: attrs: fecha"
     ],
     "language": "python",
     "metadata": {},
     "outputs": [],
     "prompt_number": 11
    },
    {
     "cell_type": "code",
     "collapsed": false,
     "input": [
      "p4 = px.Projection(sub3)\n",
      "sub4 = p4.execute(\"\"\"\n",
      "    MATCH GRAPH (d:Documento)-(p:Persona)\n",
      "    TRANSFER (d)-(p)\n",
      "    METHOD EDGES Edicion\n",
      "    SET doc_type=d.doc_type, fecha=d.fecha, lugar=d.lugar\n",
      "\"\"\")"
     ],
     "language": "python",
     "metadata": {},
     "outputs": [],
     "prompt_number": 12
    },
    {
     "cell_type": "code",
     "collapsed": false,
     "input": [
      "p5 = px.Projection(sub4)\n",
      "sub5 = p5.execute(\"\"\"\n",
      "    MATCH GRAPH (i:Institucion)-(wild)\n",
      "    TRANSFER (i)-(wild)\n",
      "    METHOD ATTRS\n",
      "    SET inst=i.label\n",
      "\"\"\")"
     ],
     "language": "python",
     "metadata": {},
     "outputs": [],
     "prompt_number": 13
    },
    {
     "cell_type": "code",
     "collapsed": false,
     "input": [
      "p6 = px.Projection(sub5)\n",
      "sub6 = p6.execute(\"\"\"\n",
      "    MATCH GRAPH (i:Impresion)-(p:Persona)\n",
      "    TRANSFER (i)-(p)\n",
      "    METHOD EDGES Edicion\n",
      "    SET doc_type=i.type, fecha=i.fecha, lugar=i.lugar\n",
      "\"\"\")"
     ],
     "language": "python",
     "metadata": {},
     "outputs": [],
     "prompt_number": 14
    },
    {
     "cell_type": "code",
     "collapsed": false,
     "input": [
      "p7 = px.Projection(sub6)\n",
      "sub7 = p7.execute(\"\"\"\n",
      "    MATCH GRAPH (i:Impresion)-(e:Edicion)\n",
      "    TRANSFER (i)-(e)\n",
      "    METHOD ATTRS\n",
      "    SET lugar=i.lugar\n",
      "\"\"\")"
     ],
     "language": "python",
     "metadata": {},
     "outputs": [],
     "prompt_number": 15
    },
    {
     "cell_type": "code",
     "collapsed": false,
     "input": [
      "p8 = px.Projection(sub7)\n",
      "sub8 = p8.execute(\"\"\"\n",
      "    MATCH GRAPH (o:Obra)-(e:Edicion)\n",
      "    TRANSFER (o)-(e)\n",
      "    METHOD ATTRS\n",
      "    SET genero=o.genero\n",
      "\"\"\")"
     ],
     "language": "python",
     "metadata": {},
     "outputs": [],
     "prompt_number": 16
    },
    {
     "cell_type": "code",
     "collapsed": false,
     "input": [
      "p9 = px.Projection(sub8)\n",
      "sub9 = p9.execute(\"\"\"\n",
      "    MATCH GRAPH (e:Edicion)-(o:Obra)\n",
      "    TRANSFER (e)-(o)\n",
      "    METHOD ATTRS\n",
      "    SET doc_type=e.type, ed_fecha=e.fecha, lugar=e.lugar\n",
      "\"\"\")"
     ],
     "language": "python",
     "metadata": {},
     "outputs": [],
     "prompt_number": 17
    },
    {
     "cell_type": "code",
     "collapsed": false,
     "input": [
      "p10 = px.Projection(sub9)\n",
      "sub10 = p10.execute(\"\"\"\n",
      "    MATCH GRAPH (o:Obra)-(p:Persona)\n",
      "    TRANSFER (o)-(p)\n",
      "    METHOD EDGES Edicion\n",
      "    SET doc_type=o.type, fecha=o.ed_fecha, lugar=o.lugar, author=\"true\"\n",
      "\"\"\")"
     ],
     "language": "python",
     "metadata": {},
     "outputs": [],
     "prompt_number": 18
    },
    {
     "cell_type": "code",
     "collapsed": false,
     "input": [
      "p11 = px.Projection(sub10)\n",
      "sub11 = p11.execute(\"\"\"\n",
      "    MATCH GRAPH (e:Edicion)-(p:Persona)\n",
      "    TRANSFER (e)-(p)\n",
      "    METHOD ATTRS\n",
      "    SET genero=e.genero\n",
      "\"\"\")"
     ],
     "language": "python",
     "metadata": {},
     "outputs": [],
     "prompt_number": 19
    },
    {
     "cell_type": "code",
     "collapsed": false,
     "input": [
      "p12 = px.Projection(sub11)\n",
      "sub12 = p12.execute(\"\"\"\n",
      "    MATCH GRAPH (e:Edicion)-(p:Persona)\n",
      "    TRANSFER (e)-(p)\n",
      "    METHOD ATTRS\n",
      "    SET genero=e.genero\n",
      "\"\"\")"
     ],
     "language": "python",
     "metadata": {},
     "outputs": [],
     "prompt_number": 20
    },
    {
     "cell_type": "code",
     "collapsed": false,
     "input": [
      "p13 = px.Projection(sub12)\n",
      "bipartite = p13.execute(\"\"\"\n",
      "    MATCH (p:Persona)-(e:Edicion)\n",
      "\"\"\")"
     ],
     "language": "python",
     "metadata": {},
     "outputs": [],
     "prompt_number": 21
    },
    {
     "cell_type": "code",
     "collapsed": false,
     "input": [
      "p14 = px.Projection(bipartite)\n",
      "projection = p14.execute(\"\"\"\n",
      "    MATCH (p1:Persona)-(e:Edicion)-(p2:Persona)\n",
      "    PROJECT (p1)-(p2)\n",
      "    METHOD JACCARD Edicion\n",
      "    DELETE e\n",
      "\"\"\")"
     ],
     "language": "python",
     "metadata": {},
     "outputs": [],
     "prompt_number": 22
    },
    {
     "cell_type": "heading",
     "level": 4,
     "metadata": {},
     "source": [
      "Projection centrality metrics:"
     ]
    },
    {
     "cell_type": "code",
     "collapsed": false,
     "input": [
      "bc = nx.betweenness_centrality(projection, weight=\"weight\")\n",
      "ec = nx.eigenvector_centrality(projection, weight=\"weight\", max_iter=500)\n",
      "cc = nx.closeness_centrality(projection)\n",
      "dc = nx.degree_centrality(projection)\n",
      "pr = nx.pagerank(projection, max_iter=500, weight=\"weight\")"
     ],
     "language": "python",
     "metadata": {},
     "outputs": [],
     "prompt_number": 23
    },
    {
     "cell_type": "code",
     "collapsed": false,
     "input": [
      "cent_10_df = pd.DataFrame({\n",
      "    \"bc\": [(k, projection.node[k][\"label\"], bc[k]) for k in sorted(bc, key=bc.get, reverse=True)[0:10]],\n",
      "    \"ec\": [(k, projection.node[k][\"label\"], ec[k]) for k in sorted(ec, key=ec.get, reverse=True)[0:10]],\n",
      "    \"cc\": [(k, projection.node[k][\"label\"], cc[k]) for k in sorted(cc, key=cc.get, reverse=True)[0:10]],\n",
      "    \"dc\": [(k, projection.node[k][\"label\"], dc[k]) for k in sorted(dc, key=dc.get, reverse=True)[0:10]],\n",
      "    \"pr\": [(k, projection.node[k][\"label\"], pr[k]) for k in sorted(pr, key=pr.get, reverse=True)[0:10]]\n",
      "})"
     ],
     "language": "python",
     "metadata": {},
     "outputs": [],
     "prompt_number": 24
    },
    {
     "cell_type": "code",
     "collapsed": false,
     "input": [
      "cent_10_df"
     ],
     "language": "python",
     "metadata": {},
     "outputs": [
      {
       "html": [
        "<div style=\"max-height:1000px;max-width:1500px;overflow:auto;\">\n",
        "<table border=\"1\" class=\"dataframe\">\n",
        "  <thead>\n",
        "    <tr style=\"text-align: right;\">\n",
        "      <th></th>\n",
        "      <th>bc</th>\n",
        "      <th>cc</th>\n",
        "      <th>dc</th>\n",
        "      <th>ec</th>\n",
        "      <th>pr</th>\n",
        "    </tr>\n",
        "  </thead>\n",
        "  <tbody>\n",
        "    <tr>\n",
        "      <th>0</th>\n",
        "      <td> (287, Francisco Murcia de la Llana, 0.43241212...</td>\n",
        "      <td> (287, Francisco Murcia de la Llana, 0.59067816...</td>\n",
        "      <td> (287, Francisco Murcia de la Llana, 0.47186147...</td>\n",
        "      <td>          (314, Juana de Figueroa, 0.205206778384)</td>\n",
        "      <td>         (320, Antonia de la Paz, 0.0035614711186)</td>\n",
        "    </tr>\n",
        "    <tr>\n",
        "      <th>1</th>\n",
        "      <td>   (584, Felix Lope de Vega Carpio, 0.35412382267)</td>\n",
        "      <td>  (584, Felix Lope de Vega Carpio, 0.583211732088)</td>\n",
        "      <td>  (584, Felix Lope de Vega Carpio, 0.419913419913)</td>\n",
        "      <td>      (316, Francisco de Corcuera, 0.205206778384)</td>\n",
        "      <td>          (321, Antonio de Rojas, 0.0035614711186)</td>\n",
        "    </tr>\n",
        "    <tr>\n",
        "      <th>2</th>\n",
        "      <td> (237, Pedro Fernandez de Castro, Conde de Lemo...</td>\n",
        "      <td> (131, Gutierre de Cetina, Vicario General, 0.5...</td>\n",
        "      <td> (131, Gutierre de Cetina, Vicario General, 0.2...</td>\n",
        "      <td> (317, Francisco Sanchez de Villanueva, 0.20520...</td>\n",
        "      <td>    (360, Agustin de Tejada Paez, 0.0035614711186)</td>\n",
        "    </tr>\n",
        "    <tr>\n",
        "      <th>3</th>\n",
        "      <td>               (19, Roger Velpius, 0.135264951968)</td>\n",
        "      <td> (237, Pedro Fernandez de Castro, Conde de Lemo...</td>\n",
        "      <td> (237, Pedro Fernandez de Castro, Conde de Lemo...</td>\n",
        "      <td>       (318, Maria de los \u00c1ngeles, 0.205206778384)</td>\n",
        "      <td>             (361, Juana Vazquez, 0.0035614711186)</td>\n",
        "    </tr>\n",
        "    <tr>\n",
        "      <th>4</th>\n",
        "      <td>              (463, Luis Menescal, 0.104065132265)</td>\n",
        "      <td>               (111, Juan de Pina, 0.503940234523)</td>\n",
        "      <td>                (111, Juan de Pina, 0.21645021645)</td>\n",
        "      <td>      (319, Leonardo el cortesano, 0.205206778384)</td>\n",
        "      <td> (364, Agustin de Rojas Villaldrando, 0.0035614...</td>\n",
        "    </tr>\n",
        "    <tr>\n",
        "      <th>5</th>\n",
        "      <td>               (94, Mateo Aleman, 0.0985435388906)</td>\n",
        "      <td>            (574, Vicente Espinel, 0.503329397875)</td>\n",
        "      <td>            (574, Vicente Espinel, 0.199134199134)</td>\n",
        "      <td>          (320, Antonia de la Paz, 0.205206778384)</td>\n",
        "      <td>      (318, Maria de los \u00c1ngeles, 0.0035614711186)</td>\n",
        "    </tr>\n",
        "    <tr>\n",
        "      <th>6</th>\n",
        "      <td> (266, Miguel de Cervantes Saavedra, 0.07152717...</td>\n",
        "      <td>     (191, Tomas Gracian Dantisco, 0.491998522804)</td>\n",
        "      <td>           (284, Juan de la Cuesta, 0.19696969697)</td>\n",
        "      <td>           (321, Antonio de Rojas, 0.205206778384)</td>\n",
        "      <td>     (319, Leonardo el cortesano, 0.0035614711186)</td>\n",
        "    </tr>\n",
        "    <tr>\n",
        "      <th>7</th>\n",
        "      <td>           (265, Jorge Rodriguez, 0.0640617516973)</td>\n",
        "      <td>             (355, Jorge de Tovar, 0.491998522804)</td>\n",
        "      <td>     (191, Tomas Gracian Dantisco, 0.190476190476)</td>\n",
        "      <td>     (360, Agustin de Tejada Paez, 0.205206778384)</td>\n",
        "      <td>       (273, Francisco de Aranda, 0.0035614711186)</td>\n",
        "    </tr>\n",
        "    <tr>\n",
        "      <th>8</th>\n",
        "      <td>            (355, Jorge de Tovar, 0.0487599891071)</td>\n",
        "      <td>          (284, Juan de la Cuesta, 0.490835405729)</td>\n",
        "      <td>             (355, Jorge de Tovar, 0.188311688312)</td>\n",
        "      <td>              (361, Juana Vazquez, 0.205206778384)</td>\n",
        "      <td>           (274, Maria de Guzman, 0.0035614711186)</td>\n",
        "    </tr>\n",
        "    <tr>\n",
        "      <th>9</th>\n",
        "      <td>              (579, Alonso Perez, 0.0390455531453)</td>\n",
        "      <td>           (575, Hernando de Soto, 0.490255907021)</td>\n",
        "      <td>   (357, Miguel de Ondarza Zabala, 0.188311688312)</td>\n",
        "      <td> (364, Agustin de Rojas Villaldrando, 0.2052067...</td>\n",
        "      <td>          (275, Pedro Juan Ochoa, 0.0035614711186)</td>\n",
        "    </tr>\n",
        "  </tbody>\n",
        "</table>\n",
        "</div>"
       ],
       "metadata": {},
       "output_type": "pyout",
       "prompt_number": 25,
       "text": [
        "                                                  bc  \\\n",
        "0  (287, Francisco Murcia de la Llana, 0.43241212...   \n",
        "1    (584, Felix Lope de Vega Carpio, 0.35412382267)   \n",
        "2  (237, Pedro Fernandez de Castro, Conde de Lemo...   \n",
        "3                (19, Roger Velpius, 0.135264951968)   \n",
        "4               (463, Luis Menescal, 0.104065132265)   \n",
        "5                (94, Mateo Aleman, 0.0985435388906)   \n",
        "6  (266, Miguel de Cervantes Saavedra, 0.07152717...   \n",
        "7            (265, Jorge Rodriguez, 0.0640617516973)   \n",
        "8             (355, Jorge de Tovar, 0.0487599891071)   \n",
        "9               (579, Alonso Perez, 0.0390455531453)   \n",
        "\n",
        "                                                  cc  \\\n",
        "0  (287, Francisco Murcia de la Llana, 0.59067816...   \n",
        "1   (584, Felix Lope de Vega Carpio, 0.583211732088)   \n",
        "2  (131, Gutierre de Cetina, Vicario General, 0.5...   \n",
        "3  (237, Pedro Fernandez de Castro, Conde de Lemo...   \n",
        "4                (111, Juan de Pina, 0.503940234523)   \n",
        "5             (574, Vicente Espinel, 0.503329397875)   \n",
        "6      (191, Tomas Gracian Dantisco, 0.491998522804)   \n",
        "7              (355, Jorge de Tovar, 0.491998522804)   \n",
        "8           (284, Juan de la Cuesta, 0.490835405729)   \n",
        "9            (575, Hernando de Soto, 0.490255907021)   \n",
        "\n",
        "                                                  dc  \\\n",
        "0  (287, Francisco Murcia de la Llana, 0.47186147...   \n",
        "1   (584, Felix Lope de Vega Carpio, 0.419913419913)   \n",
        "2  (131, Gutierre de Cetina, Vicario General, 0.2...   \n",
        "3  (237, Pedro Fernandez de Castro, Conde de Lemo...   \n",
        "4                 (111, Juan de Pina, 0.21645021645)   \n",
        "5             (574, Vicente Espinel, 0.199134199134)   \n",
        "6            (284, Juan de la Cuesta, 0.19696969697)   \n",
        "7      (191, Tomas Gracian Dantisco, 0.190476190476)   \n",
        "8              (355, Jorge de Tovar, 0.188311688312)   \n",
        "9    (357, Miguel de Ondarza Zabala, 0.188311688312)   \n",
        "\n",
        "                                                  ec  \\\n",
        "0           (314, Juana de Figueroa, 0.205206778384)   \n",
        "1       (316, Francisco de Corcuera, 0.205206778384)   \n",
        "2  (317, Francisco Sanchez de Villanueva, 0.20520...   \n",
        "3        (318, Maria de los \u00c1ngeles, 0.205206778384)   \n",
        "4       (319, Leonardo el cortesano, 0.205206778384)   \n",
        "5           (320, Antonia de la Paz, 0.205206778384)   \n",
        "6            (321, Antonio de Rojas, 0.205206778384)   \n",
        "7      (360, Agustin de Tejada Paez, 0.205206778384)   \n",
        "8               (361, Juana Vazquez, 0.205206778384)   \n",
        "9  (364, Agustin de Rojas Villaldrando, 0.2052067...   \n",
        "\n",
        "                                                  pr  \n",
        "0          (320, Antonia de la Paz, 0.0035614711186)  \n",
        "1           (321, Antonio de Rojas, 0.0035614711186)  \n",
        "2     (360, Agustin de Tejada Paez, 0.0035614711186)  \n",
        "3              (361, Juana Vazquez, 0.0035614711186)  \n",
        "4  (364, Agustin de Rojas Villaldrando, 0.0035614...  \n",
        "5       (318, Maria de los \u00c1ngeles, 0.0035614711186)  \n",
        "6      (319, Leonardo el cortesano, 0.0035614711186)  \n",
        "7        (273, Francisco de Aranda, 0.0035614711186)  \n",
        "8            (274, Maria de Guzman, 0.0035614711186)  \n",
        "9           (275, Pedro Juan Ochoa, 0.0035614711186)  "
       ]
      }
     ],
     "prompt_number": 25
    },
    {
     "cell_type": "heading",
     "level": 4,
     "metadata": {},
     "source": [
      "Preferential attachment:"
     ]
    },
    {
     "cell_type": "code",
     "collapsed": false,
     "input": [
      "def prob_dist(itrbl):\n",
      "    count = {}\n",
      "    for i in itrbl:\n",
      "        count.setdefault(i, 0)\n",
      "        count[i] += 1\n",
      "    sr = pd.Series(count)\n",
      "    prob = sr.apply(lambda x: float(x) / len(itrbl))\n",
      "    return prob"
     ],
     "language": "python",
     "metadata": {},
     "outputs": [],
     "prompt_number": 26
    },
    {
     "cell_type": "code",
     "collapsed": false,
     "input": [
      "deg_prob = prob_dist(nx.degree(projection).values())"
     ],
     "language": "python",
     "metadata": {},
     "outputs": [],
     "prompt_number": 27
    },
    {
     "cell_type": "code",
     "collapsed": false,
     "input": [
      "plt.scatter(deg_prob.index, deg_prob)"
     ],
     "language": "python",
     "metadata": {},
     "outputs": [
      {
       "metadata": {},
       "output_type": "pyout",
       "prompt_number": 28,
       "text": [
        "<matplotlib.collections.PathCollection at 0x7f019f060610>"
       ]
      },
      {
       "metadata": {},
       "output_type": "display_data",
       "png": "[encoded data removed]",
       "text": [
        "<matplotlib.figure.Figure at 0x7f01a0eecc90>"
       ]
      }
     ],
     "prompt_number": 28
    },
    {
     "cell_type": "heading",
     "level": 4,
     "metadata": {},
     "source": [
      "Neighborhood overlap:"
     ]
    },
    {
     "cell_type": "code",
     "collapsed": false,
     "input": [
      "edges = [(s, t, attrs[\"weight\"]) for (s, t, attrs) in projection.edges(data=True)]"
     ],
     "language": "python",
     "metadata": {},
     "outputs": [],
     "prompt_number": 29
    },
    {
     "cell_type": "heading",
     "level": 4,
     "metadata": {},
     "source": [
      "Temporal subgraph analysis."
     ]
    },
    {
     "cell_type": "code",
     "collapsed": false,
     "input": [
      "subgraphs = temporal_subgraphs(bipartite, 1598, 1619)"
     ],
     "language": "python",
     "metadata": {},
     "outputs": [],
     "prompt_number": 30
    },
    {
     "cell_type": "code",
     "collapsed": false,
     "input": [
      "node_count = [len(s) for s in subgraphs]\n",
      "edge_count = [len(s.edges()) for s in subgraphs]"
     ],
     "language": "python",
     "metadata": {},
     "outputs": [],
     "prompt_number": 32
    },
    {
     "cell_type": "code",
     "collapsed": false,
     "input": [
      "plt.plot(node_count, edge_count)"
     ],
     "language": "python",
     "metadata": {},
     "outputs": []
    },
    {
     "cell_type": "code",
     "collapsed": false,
     "input": [
      "dens = pd.Series([nx.density(s) for s in subgraphs])"
     ],
     "language": "python",
     "metadata": {},
     "outputs": []
    },
    {
     "cell_type": "code",
     "collapsed": false,
     "input": [
      "dens.plot()"
     ],
     "language": "python",
     "metadata": {},
     "outputs": []
    },
    {
     "cell_type": "code",
     "collapsed": false,
     "input": [
      "trans = pd.Series([nx.transitivity(s) for s in subgraphs])"
     ],
     "language": "python",
     "metadata": {},
     "outputs": []
    },
    {
     "cell_type": "code",
     "collapsed": false,
     "input": [
      "trans.plot()"
     ],
     "language": "python",
     "metadata": {},
     "outputs": []
    },
    {
     "cell_type": "code",
     "collapsed": false,
     "input": [
      "avg_clust = pd.Series([nx.average_clustering(s) for s in subgraphs])"
     ],
     "language": "python",
     "metadata": {},
     "outputs": []
    },
    {
     "cell_type": "code",
     "collapsed": false,
     "input": [
      "avg_clust.plot()"
     ],
     "language": "python",
     "metadata": {},
     "outputs": []
    },
    {
     "cell_type": "heading",
     "level": 4,
     "metadata": {},
     "source": [
      "Triangle formation analysis:"
     ]
    },
    {
     "cell_type": "code",
     "collapsed": false,
     "input": [],
     "language": "python",
     "metadata": {},
     "outputs": []
    }
   ],
   "metadata": {}
  }
 ]
}