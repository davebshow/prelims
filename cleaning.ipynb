{
 "cells": [
  {
   "cell_type": "code",
   "execution_count": 1,
   "metadata": {
    "collapsed": false
   },
   "outputs": [],
   "source": [
    "%matplotlib inline"
   ]
  },
  {
   "cell_type": "code",
   "execution_count": 2,
   "metadata": {
    "collapsed": false
   },
   "outputs": [],
   "source": [
    "import networkx as nx\n",
    "import projx as px"
   ]
  },
  {
   "cell_type": "markdown",
   "metadata": {},
   "source": [
    "#### Dirty XML from Gephi"
   ]
  },
  {
   "cell_type": "code",
   "execution_count": 3,
   "metadata": {
    "collapsed": false
   },
   "outputs": [
    {
     "data": {
      "text/plain": [
       "('2318',\n",
       " {'Fecha': u'1605-04-01',\n",
       "  'Titulo': u'Erratas_Arcadia Madrid Cuesta 1605',\n",
       "  '[Schema] Type': u'Fe de erratas',\n",
       "  '[Schema] Type Id': u'153',\n",
       "  'b': 153,\n",
       "  'g': 153,\n",
       "  'label': u'Erratas_Arcadia Madrid Cuesta 1605',\n",
       "  'r': 153,\n",
       "  'size': 10.0,\n",
       "  'x': 379.74106,\n",
       "  'y': -81.48442})"
      ]
     },
     "execution_count": 3,
     "metadata": {},
     "output_type": "execute_result"
    }
   ],
   "source": [
    "g = nx.read_graphml('data/full_prelims.graphml').to_undirected()\n",
    "g.nodes(data=True)[0]"
   ]
  },
  {
   "cell_type": "code",
   "execution_count": 4,
   "metadata": {
    "collapsed": false
   },
   "outputs": [],
   "source": [
    "# Process the data with a couple one-off functions.\n",
    "def process_graph(g):\n",
    "    graph = nx.Graph()\n",
    "    to_merge = [u'Fe de erratas', u'Tasa', u'Aprobacion', u'Carta',\n",
    "                u'Otro documento', u'Privilegio/Licencia']\n",
    "    ignore = ['x', 'y', 'r', 'size', 'b', 'g', '[Schema] Type', '[Schema] Type Id', 'label', 'Nombre']\n",
    "    rel_types = []\n",
    "    for n, attrs in g.nodes(data=True):\n",
    "        new_attrs = {k.lower(): v.replace('\"', \"\").encode('utf-8') for (k, v) in attrs.items() if k not in ignore}\n",
    "        graph.add_node(n, new_attrs)\n",
    "        node_type = g.node[n][\"[Schema] Type\"]\n",
    "        if node_type in to_merge:\n",
    "            graph.node[n][\"doc_type\"] = node_type\n",
    "            node_type = u'Documento'\n",
    "        graph.node[n][\"type\"] = node_type\n",
    "        graph.node[n][\"label\"] = g.node[n][\"label\"].replace('\"', '')     \n",
    "    for s, t, attrs in g.edges(data=True):\n",
    "        try:\n",
    "            rel_type = '{0}_{1}'.format(graph.node[s][\"type\"], graph.node[t][\"type\"])\n",
    "            rev_rel_type = '{0}_{1}'.format(graph.node[t][\"type\"], graph.node[s][\"type\"])\n",
    "            rel_type = rel_type.lower()\n",
    "            rev_rel_type = rev_rel_type.lower()\n",
    "            if rel_type not in rel_types and rev_rel_type not in rel_types:\n",
    "                rel_types.append(rel_type)\n",
    "            elif rev_rel_type in rel_types:\n",
    "                rel_type = rev_rel_type\n",
    "            new_attrs = {\"type\": rel_type}\n",
    "            graph.add_edge(s, t, new_attrs)\n",
    "        except KeyError:\n",
    "            print('Failed to add edge: {0}, {1} - No Allowed Relationship for RelTypeId {2}'.format(\n",
    "                s, t, attrs['[Schema] Allowed Relationship Id']\n",
    "            ))\n",
    "    return graph\n",
    "\n",
    "\n",
    "def process_projection(proj):\n",
    "    g = proj.copy()\n",
    "    for n, attrs in proj.nodes(data=True):\n",
    "        places = attrs.get(\"lugar\", {})\n",
    "        places = sorted(places, key=places.get, reverse=True)\n",
    "        dates = attrs.get(\"fecha\", {})\n",
    "        genres = attrs.get(\"genero\", {})\n",
    "        genres = sorted(genres, key=genres.get, reverse=True)\n",
    "        date_list= []\n",
    "        for k, v in dates.items():\n",
    "            year = k.split(\"-\")[0]\n",
    "            if year:\n",
    "                date_list += [int(year)] * v\n",
    "        if date_list:\n",
    "            avg_date = int(sum(date_list) / float(len(date_list)))\n",
    "        else:\n",
    "            avg_date = \"\"\n",
    "        if places:\n",
    "            top_place = places[0]\n",
    "            try:\n",
    "                second_place = places[1]\n",
    "            except IndexError:\n",
    "                second_place = \"\"\n",
    "        else:\n",
    "            top_place = \"\"\n",
    "            second_place = \"\"\n",
    "        if genres:\n",
    "            top_genre = genres[0]\n",
    "            try:\n",
    "                second_genre = genres[1]\n",
    "            except IndexError:\n",
    "                second_genre = \"\"\n",
    "        else:\n",
    "            top_genre = \"\"\n",
    "            second_genre = \"\"\n",
    "        g.node[n][\"avg_date\"] = avg_date\n",
    "        g.node[n][\"top_place\"] = top_place\n",
    "        g.node[n][\"top_genre\"] = top_genre\n",
    "        g.node[n][\"second_place\"] = second_place\n",
    "        g.node[n][\"second_genre\"] = second_genre\n",
    "    for s, t, attrs in proj.edges(data=True):\n",
    "        earliest_year = 2000\n",
    "        dates = attrs.get(\"fecha\", {})\n",
    "        for k, v in dates.items():\n",
    "            year = int(k.split(\"-\")[0])\n",
    "            if year < earliest_year:\n",
    "                earliest_year = year\n",
    "        g.adj[s][t][\"earliest_year\"] = earliest_year\n",
    "        g.adj[t][s][\"earliest_year\"] = earliest_year\n",
    "    return g"
   ]
  },
  {
   "cell_type": "code",
   "execution_count": 5,
   "metadata": {
    "collapsed": false
   },
   "outputs": [],
   "source": [
    "graph = process_graph(g)"
   ]
  },
  {
   "cell_type": "markdown",
   "metadata": {},
   "source": [
    "#### Transfer the Lugar type as an attribute to documents, impressions, institutions:<br><br>  (need to implement WHERE in MATCH statement and I could do this is one statement)"
   ]
  },
  {
   "cell_type": "code",
   "execution_count": 6,
   "metadata": {
    "collapsed": false
   },
   "outputs": [],
   "source": [
    "p1 = px.Projection(graph)\n",
    "sub1 = p1.execute(\"\"\"\n",
    "    MATCH GRAPH (l:Lugar)-(d:Documento)\n",
    "    TRANSFER (l)-(d)\n",
    "    METHOD ATTRS\n",
    "    SET lugar=l.label\n",
    "\"\"\")"
   ]
  },
  {
   "cell_type": "code",
   "execution_count": 7,
   "metadata": {
    "collapsed": false
   },
   "outputs": [],
   "source": [
    "p2 = px.Projection(sub1)\n",
    "sub2 = p2.execute(\"\"\"\n",
    "    MATCH GRAPH (l:Lugar)-(d:Dedicatoria)\n",
    "    TRANSFER (l)-(d)\n",
    "    METHOD ATTRS\n",
    "    SET lugar=l.label\n",
    "\"\"\")"
   ]
  },
  {
   "cell_type": "code",
   "execution_count": 8,
   "metadata": {
    "collapsed": false
   },
   "outputs": [],
   "source": [
    "p3 = px.Projection(sub2)\n",
    "sub3 = p3.execute(\"\"\"\n",
    "    MATCH GRAPH (l:Lugar)-(i:Institucion)\n",
    "    TRANSFER (l)-(i)\n",
    "    METHOD ATTRS\n",
    "    SET lugar=l.label\n",
    "\"\"\")"
   ]
  },
  {
   "cell_type": "code",
   "execution_count": 9,
   "metadata": {
    "collapsed": false
   },
   "outputs": [],
   "source": [
    "p4 = px.Projection(sub3)\n",
    "sub4 = p4.execute(\"\"\"\n",
    "    MATCH GRAPH (l:Lugar)-(i:Impresion)\n",
    "    TRANSFER (l)-(i)\n",
    "    METHOD ATTRS\n",
    "    SET lugar=l.label\n",
    "\"\"\")"
   ]
  },
  {
   "cell_type": "code",
   "execution_count": 10,
   "metadata": {
    "collapsed": false
   },
   "outputs": [],
   "source": [
    "nx.write_gexf(sub3, 'projections/multipartite.gexf')"
   ]
  },
  {
   "cell_type": "markdown",
   "metadata": {},
   "source": [
    "#### Refine the graph with some more fine tuned planned transfomations:"
   ]
  },
  {
   "cell_type": "code",
   "execution_count": 11,
   "metadata": {
    "collapsed": false
   },
   "outputs": [],
   "source": [
    "### TRANSFERS ###\n",
    "\n",
    "#Documento --> Persona: attrs - doc_type, fecha, lugar; edges - Edicion\n",
    "#Institucion --> wild: attrs - name\n",
    "#Impresion --> Persona: attrs - type, fecha, lugar; edges - Edicion\n",
    "#Impresion --> Edicion: attrs - lugar\n",
    "#Obra --> Edicion: attrs - genero\n",
    "#Edicion --> Obra: attrs - type, lugar, fecha\n",
    "#Obra --> Persona: attrs - type, lugar, fecha; edges - Edicion\n",
    "\n",
    "### PROJECTION ###\n",
    "\n",
    "#Persona -- Edicion -- Persona --> Persona -- Persona: attrs: fecha"
   ]
  },
  {
   "cell_type": "code",
   "execution_count": 12,
   "metadata": {
    "collapsed": false
   },
   "outputs": [],
   "source": [
    "p5 = px.Projection(sub4)\n",
    "sub5 = p5.execute(\"\"\"\n",
    "    MATCH GRAPH (d:Dedicatoria)-(p:Persona)\n",
    "    TRANSFER (d)-(p)\n",
    "    METHOD EDGES Edicion\n",
    "    SET doc_type=\"dedicatory\", fecha=d.fecha, lugar=d.lugar, role=\"patron\"\n",
    "\"\"\")"
   ]
  },
  {
   "cell_type": "code",
   "execution_count": 13,
   "metadata": {
    "collapsed": false
   },
   "outputs": [],
   "source": [
    "p6 = px.Projection(sub5)\n",
    "sub6 = p6.execute(\"\"\"\n",
    "    MATCH GRAPH (d:Documento)-(p:Persona)\n",
    "    TRANSFER (d)-(p)\n",
    "    METHOD EDGES Edicion\n",
    "    SET doc_type=d.doc_type, fecha=d.fecha, lugar=d.lugar, role=\"signatory\"\n",
    "\"\"\")"
   ]
  },
  {
   "cell_type": "code",
   "execution_count": 14,
   "metadata": {
    "collapsed": false
   },
   "outputs": [],
   "source": [
    "p7 = px.Projection(sub6)\n",
    "sub7 = p7.execute(\"\"\"\n",
    "    MATCH GRAPH (i:Institucion)-(wild)\n",
    "    TRANSFER (i)-(wild)\n",
    "    METHOD ATTRS\n",
    "    SET inst=i.label\n",
    "\"\"\")"
   ]
  },
  {
   "cell_type": "code",
   "execution_count": 15,
   "metadata": {
    "collapsed": false
   },
   "outputs": [],
   "source": [
    "p8 = px.Projection(sub7)\n",
    "sub8 = p8.execute(\"\"\"\n",
    "    MATCH GRAPH (i:Impresion)-(p:Persona)\n",
    "    TRANSFER (i)-(p)\n",
    "    METHOD EDGES Edicion\n",
    "    SET doc_type=i.type, fecha=i.fecha, lugar=i.lugar, role=\"printer/editor\"\n",
    "\"\"\")"
   ]
  },
  {
   "cell_type": "code",
   "execution_count": 16,
   "metadata": {
    "collapsed": false
   },
   "outputs": [],
   "source": [
    "p9 = px.Projection(sub8)\n",
    "sub9 = p9.execute(\"\"\"\n",
    "    MATCH GRAPH (i:Impresion)-(e:Edicion)\n",
    "    TRANSFER (i)-(e)\n",
    "    METHOD ATTRS\n",
    "    SET lugar=i.lugar\n",
    "\"\"\")"
   ]
  },
  {
   "cell_type": "code",
   "execution_count": 17,
   "metadata": {
    "collapsed": false
   },
   "outputs": [],
   "source": [
    "p10 = px.Projection(sub9)\n",
    "sub10 = p10.execute(\"\"\"\n",
    "    MATCH GRAPH (o:Obra)-(e:Edicion)\n",
    "    TRANSFER (o)-(e)\n",
    "    METHOD ATTRS\n",
    "    SET genero=o.genero\n",
    "\"\"\")\n",
    "### This essentially counts 12 theatre obras as 1 genre edition\n",
    "for n, attrs in sub10.nodes(data=True):\n",
    "    if attrs.get(\"genero\", \"\"):\n",
    "        k = attrs.get(\"genero\", {})\n",
    "        if isinstance(k, str):\n",
    "            sub10.node[n][\"genero\"] = {k: 1}\n",
    "        else:\n",
    "            k = k.keys()[0]\n",
    "            sub10.node[n][\"genero\"][k] = 1"
   ]
  },
  {
   "cell_type": "code",
   "execution_count": 18,
   "metadata": {
    "collapsed": false
   },
   "outputs": [],
   "source": [
    "p11 = px.Projection(sub10)\n",
    "sub11 = p11.execute(\"\"\"\n",
    "    MATCH GRAPH (e:Edicion)-(o:Obra)\n",
    "    TRANSFER (e)-(o)\n",
    "    METHOD ATTRS\n",
    "    SET doc_type=e.type, ed_fecha=e.fecha, lugar=e.lugar\n",
    "\"\"\")"
   ]
  },
  {
   "cell_type": "code",
   "execution_count": 19,
   "metadata": {
    "collapsed": false
   },
   "outputs": [],
   "source": [
    "p12 = px.Projection(sub11)\n",
    "sub12 = p12.execute(\"\"\"\n",
    "    MATCH GRAPH (o:Obra)-(p:Persona)\n",
    "    TRANSFER (o)-(p)\n",
    "    METHOD EDGES Edicion\n",
    "    SET doc_type=o.type, fecha=o.ed_fecha, lugar=o.lugar, author=\"true\", role=\"author\"\n",
    "\"\"\")"
   ]
  },
  {
   "cell_type": "code",
   "execution_count": 20,
   "metadata": {
    "collapsed": false
   },
   "outputs": [],
   "source": [
    "p13 = px.Projection(sub12)\n",
    "sub13 = p13.execute(\"\"\"\n",
    "    MATCH GRAPH (e:Edicion)-(p:Persona)\n",
    "    TRANSFER (e)-(p)\n",
    "    METHOD ATTRS\n",
    "    SET genero=e.genero\n",
    "\"\"\")"
   ]
  },
  {
   "cell_type": "code",
   "execution_count": 21,
   "metadata": {
    "collapsed": false
   },
   "outputs": [],
   "source": [
    "p14 = px.Projection(sub13)\n",
    "bipartite = p14.execute(\"\"\"\n",
    "    MATCH (p:Persona)-(e:Edicion)\n",
    "\"\"\")"
   ]
  },
  {
   "cell_type": "code",
   "execution_count": 22,
   "metadata": {
    "collapsed": false
   },
   "outputs": [],
   "source": [
    "nx.write_gexf(bipartite, \"projections/bipartite.gexf\")"
   ]
  },
  {
   "cell_type": "code",
   "execution_count": 23,
   "metadata": {
    "collapsed": false
   },
   "outputs": [],
   "source": [
    "p16 = px.Projection(bipartite)\n",
    "projection = p16.execute(\"\"\"\n",
    "    MATCH (p1:Persona)-(e:Edicion)-(p2:Persona)\n",
    "    PROJECT (p1)-(p2)\n",
    "    METHOD NEWMAN Edicion\n",
    "    DELETE e\n",
    "\"\"\")"
   ]
  },
  {
   "cell_type": "code",
   "execution_count": 24,
   "metadata": {
    "collapsed": false
   },
   "outputs": [],
   "source": [
    "proj = process_projection(projection)\n",
    "nx.write_gexf(proj, 'projections/onemode.gexf')"
   ]
  },
  {
   "cell_type": "code",
   "execution_count": 26,
   "metadata": {
    "collapsed": false
   },
   "outputs": [
    {
     "data": {
      "text/plain": [
       "(4,\n",
       " {'avg_date': 1603,\n",
       "  'doc_type': {u'Privilegio/Licencia': 1},\n",
       "  'fecha': {'1603-12-11': 1},\n",
       "  'genero': {'Teatro': 1},\n",
       "  'inst': {u'Archidiocesis de Zaragoza': 1},\n",
       "  'label': u'Pedro de Moya, vicario general',\n",
       "  'lugar': {u'Zaragoza': 1},\n",
       "  'real': {'True': 1},\n",
       "  'role': 'signatory',\n",
       "  'second_genre': '',\n",
       "  'second_place': '',\n",
       "  'top_genre': 'Teatro',\n",
       "  'top_place': u'Zaragoza',\n",
       "  'type': u'Persona'})"
      ]
     },
     "execution_count": 26,
     "metadata": {},
     "output_type": "execute_result"
    }
   ],
   "source": [
    "proj.nodes(data=True)[1]"
   ]
  },
  {
   "cell_type": "code",
   "execution_count": 35,
   "metadata": {
    "collapsed": false
   },
   "outputs": [],
   "source": [
    "# Need to implement Cypher.\n",
    "def places_per_role(g):\n",
    "    places = {}\n",
    "    for n, a in g.nodes(data=True):\n",
    "        lugar = a.get(\"lugar\", \"\")\n",
    "        role = a.get(\"role\", \"\")\n",
    "        if lugar and role:\n",
    "            places.setdefault(role, [])\n",
    "            places[role].append(len(filter(bool, lugar.keys())))\n",
    "    return places\n",
    "            \n",
    "def aggs(tps):\n",
    "    aggs = {}\n",
    "    for k, v in tps.items():\n",
    "        aggs[k] = (sum(v) / float(len(v)))\n",
    "    return aggs"
   ]
  },
  {
   "cell_type": "code",
   "execution_count": 36,
   "metadata": {
    "collapsed": false
   },
   "outputs": [],
   "source": [
    "plc = places_per_role(proj)\n",
    "a = aggs(plc)"
   ]
  },
  {
   "cell_type": "code",
   "execution_count": 37,
   "metadata": {
    "collapsed": false
   },
   "outputs": [
    {
     "data": {
      "text/plain": [
       "{'author': 2.888888888888889,\n",
       " 'patron': 0.19047619047619047,\n",
       " 'printer/editor': 1.095890410958904,\n",
       " 'signatory': 0.950920245398773}"
      ]
     },
     "execution_count": 37,
     "metadata": {},
     "output_type": "execute_result"
    }
   ],
   "source": [
    "a"
   ]
  },
  {
   "cell_type": "code",
   "execution_count": null,
   "metadata": {
    "collapsed": true
   },
   "outputs": [],
   "source": []
  },
  {
   "cell_type": "code",
   "execution_count": null,
   "metadata": {
    "collapsed": true
   },
   "outputs": [],
   "source": []
  },
  {
   "cell_type": "code",
   "execution_count": null,
   "metadata": {
    "collapsed": true
   },
   "outputs": [],
   "source": []
  }
 ],
 "metadata": {
  "kernelspec": {
   "display_name": "Python 3",
   "language": "python",
   "name": "python3"
  },
  "language_info": {
   "codemirror_mode": {
    "name": "ipython",
    "version": 3
   },
   "file_extension": ".py",
   "mimetype": "text/x-python",
   "name": "python",
   "nbconvert_exporter": "python",
   "pygments_lexer": "ipython3",
   "version": "3.4.0"
  }
 },
 "nbformat": 4,
 "nbformat_minor": 0
}
