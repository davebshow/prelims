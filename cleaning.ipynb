{
 "metadata": {
  "name": "",
  "signature": "sha256:8726a2b5d54ea056227e15e0c5e05337ef6a0f04b7c39a6f23187ea24bb5df21"
 },
 "nbformat": 3,
 "nbformat_minor": 0,
 "worksheets": [
  {
   "cells": [
    {
     "cell_type": "code",
     "collapsed": false,
     "input": [
      "%matplotlib inline"
     ],
     "language": "python",
     "metadata": {},
     "outputs": [],
     "prompt_number": 1
    },
    {
     "cell_type": "code",
     "collapsed": false,
     "input": [
      "import json\n",
      "import networkx as nx\n",
      "import pandas as pd\n",
      "import projx as px\n",
      "import matplotlib.pyplot as plt"
     ],
     "language": "python",
     "metadata": {},
     "outputs": [],
     "prompt_number": 2
    },
    {
     "cell_type": "code",
     "collapsed": false,
     "input": [
      "plt.rcParams['figure.figsize'] = (12, 7)"
     ],
     "language": "python",
     "metadata": {},
     "outputs": [],
     "prompt_number": 3
    },
    {
     "cell_type": "heading",
     "level": 4,
     "metadata": {},
     "source": [
      "Dirty XML from Gephi"
     ]
    },
    {
     "cell_type": "code",
     "collapsed": false,
     "input": [
      "g = nx.read_graphml('data/full_prelims.graphml').to_undirected()\n",
      "g.nodes(data=True)[0]"
     ],
     "language": "python",
     "metadata": {},
     "outputs": [
      {
       "metadata": {},
       "output_type": "pyout",
       "prompt_number": 4,
       "text": [
        "('2318',\n",
        " {'Fecha': u'1605-04-01',\n",
        "  'Titulo': u'Erratas_Arcadia Madrid Cuesta 1605',\n",
        "  '[Schema] Type': u'Fe de erratas',\n",
        "  '[Schema] Type Id': u'153',\n",
        "  'b': 153,\n",
        "  'g': 153,\n",
        "  'label': u'Erratas_Arcadia Madrid Cuesta 1605',\n",
        "  'r': 153,\n",
        "  'size': 10.0,\n",
        "  'x': 379.74106,\n",
        "  'y': -81.48442})"
       ]
      }
     ],
     "prompt_number": 4
    },
    {
     "cell_type": "code",
     "collapsed": false,
     "input": [
      "# Process the data with a couple one-off functions.\n",
      "def process_graph(g):\n",
      "    graph = nx.Graph()\n",
      "    to_merge = [u'Fe de erratas', u'Tasa', u'Dedicatoria', u'Aprobacion', u'Carta',\n",
      "                u'Otro documento', u'Poema', u'Privilegio/Licencia']\n",
      "    ignore = ['x', 'y', 'r', 'size', 'b', 'g', '[Schema] Type', '[Schema] Type Id', 'label', 'Nombre']\n",
      "    rel_types = []\n",
      "    for n, attrs in g.nodes(data=True):\n",
      "        new_attrs = {k.lower(): v.replace('\"', \"\").encode('utf-8') for (k, v) in attrs.items() if k not in ignore}\n",
      "        graph.add_node(n, new_attrs)\n",
      "        node_type = g.node[n][\"[Schema] Type\"]\n",
      "        if node_type in to_merge:\n",
      "            graph.node[n][\"doc_type\"] = node_type\n",
      "            node_type = u'Documento'\n",
      "        graph.node[n][\"type\"] = node_type\n",
      "        graph.node[n][\"id\"] = n\n",
      "        graph.node[n][\"label\"] = g.node[n][\"label\"].replace('\"', '')     \n",
      "    for s, t, attrs in g.edges(data=True):\n",
      "        try:\n",
      "            rel_type = '{0}_{1}'.format(graph.node[s][\"type\"], graph.node[t][\"type\"])\n",
      "            rev_rel_type = '{0}_{1}'.format(graph.node[t][\"type\"], graph.node[s][\"type\"])\n",
      "            rel_type = rel_type.lower()\n",
      "            rev_rel_type = rev_rel_type.lower()\n",
      "            if rel_type not in rel_types and rev_rel_type not in rel_types:\n",
      "                rel_types.append(rel_type)\n",
      "            elif rev_rel_type in rel_types:\n",
      "                rel_type = rev_rel_type\n",
      "            new_attrs = {\"type\": rel_type}\n",
      "            graph.add_edge(s, t, new_attrs)\n",
      "        except KeyError:\n",
      "            print('Failed to add edge: {0}, {1} - No Allowed Relationship for RelTypeId {2}'.format(\n",
      "                s, t, attrs['[Schema] Allowed Relationship Id']\n",
      "            ))\n",
      "    return graph\n",
      "\n",
      "\n",
      "def temporal_subgraphs(g, start_date, end_date):\n",
      "    subgraphs = []\n",
      "    for x in range(start_date, end_date):\n",
      "        graph = nx.Graph()\n",
      "        for n, attrs in g.nodes(data=True):\n",
      "            if attrs[\"type\"] == \"Edicion\":\n",
      "                date = attrs.get(\"fecha\", {})\n",
      "                try:\n",
      "                    year = int(date.keys()[0].split(\"-\")[0])\n",
      "                except:\n",
      "                    year = 2000 \n",
      "                if year <= x:\n",
      "                    graph.add_node(n, dict(attrs))\n",
      "                    nbrs = set(g[n])\n",
      "                    for nbr in nbrs:\n",
      "                        if nbr not in graph:\n",
      "                            graph.add_node(nbr, dict(g.node[nbr]))\n",
      "                    edges = zip([n] * len(nbrs), nbrs)\n",
      "                    graph.add_edges_from(edges)\n",
      "        p = px.Projection(graph)\n",
      "        subgraph = p.execute(\"\"\"\n",
      "            MATCH (p1:Persona)-(e:Edicion)-(p2:Persona)\n",
      "            PROJECT (p1)-(p2)\n",
      "            METHOD JACCARD Edicion\n",
      "            DELETE e\n",
      "        \"\"\")\n",
      "        subgraphs.append(subgraph)\n",
      "    return subgraphs\n",
      "\n",
      "\n",
      "def process_projection(proj):\n",
      "    g = proj.copy()\n",
      "    for n, attrs in proj.nodes(data=True):\n",
      "        places = attrs.get(\"lugar\", {})\n",
      "        places = sorted(places, key=places.get, reverse=True)\n",
      "        dates = attrs.get(\"fecha\", {})\n",
      "        genres = attrs.get(\"genero\", {})\n",
      "        genres = sorted(genres, key=genres.get, reverse=True)\n",
      "        date_list= []\n",
      "        for k, v in dates.items():\n",
      "            year = k.split(\"-\")[0]\n",
      "            if year:\n",
      "                date_list += [int(year)] * v\n",
      "        if date_list:\n",
      "            avg_date = int(sum(date_list) / float(len(date_list)))\n",
      "        else:\n",
      "            avg_date = \"\"\n",
      "        if places:\n",
      "            top_place = places[0]\n",
      "            try:\n",
      "                second_place = places[1]\n",
      "            except IndexError:\n",
      "                second_place = \"\"\n",
      "        else:\n",
      "            top_place = \"\"\n",
      "            second_place = \"\"\n",
      "        if genres:\n",
      "            top_genre = genres[0]\n",
      "            try:\n",
      "                second_genre = genres[1]\n",
      "            except IndexError:\n",
      "                second_genre = \"\"\n",
      "        else:\n",
      "            top_genre = \"\"\n",
      "            second_genre = \"\"\n",
      "        g.node[n][\"avg_date\"] = avg_date\n",
      "        g.node[n][\"top_place\"] = top_place\n",
      "        g.node[n][\"top_genre\"] = top_genre\n",
      "        g.node[n][\"second_place\"] = second_place\n",
      "        g.node[n][\"second_genre\"] = second_genre\n",
      "    for s, t, attrs in proj.edges(data=True):\n",
      "        earliest_year = 2000\n",
      "        dates = attrs.get(\"fecha\", {})\n",
      "        for k, v in dates.items():\n",
      "            year = int(k.split(\"-\")[0])\n",
      "            if year < earliest_year:\n",
      "                earliest_year = year\n",
      "        g.adj[s][t][\"earliest_year\"] = earliest_year\n",
      "        g.adj[t][s][\"earliest_year\"] = earliest_year\n",
      "    return g"
     ],
     "language": "python",
     "metadata": {},
     "outputs": [],
     "prompt_number": 5
    },
    {
     "cell_type": "code",
     "collapsed": false,
     "input": [
      "graph = process_graph(g)"
     ],
     "language": "python",
     "metadata": {},
     "outputs": [],
     "prompt_number": 6
    },
    {
     "cell_type": "heading",
     "level": 4,
     "metadata": {},
     "source": [
      "Transfer the Lugar type as an attribute to documents, impressions, institutions:<br><br>\n",
      "\n",
      "(need to implement WHERE in MATCH statement and I could do this is one statement)"
     ]
    },
    {
     "cell_type": "code",
     "collapsed": false,
     "input": [
      "p1 = px.Projection(graph)\n",
      "sub1 = p1.execute(\"\"\"\n",
      "    MATCH GRAPH (l:Lugar)-(d:Documento)\n",
      "    TRANSFER (l)-(d)\n",
      "    METHOD ATTRS\n",
      "    SET lugar=l.label\n",
      "\"\"\")"
     ],
     "language": "python",
     "metadata": {},
     "outputs": [],
     "prompt_number": 7
    },
    {
     "cell_type": "code",
     "collapsed": false,
     "input": [
      "p2 = px.Projection(sub1)\n",
      "sub2 = p2.execute(\"\"\"\n",
      "    MATCH GRAPH (l:Lugar)-(i:Institucion)\n",
      "    TRANSFER (l)-(i)\n",
      "    METHOD ATTRS\n",
      "    SET lugar=l.label\n",
      "\"\"\")"
     ],
     "language": "python",
     "metadata": {},
     "outputs": [],
     "prompt_number": 8
    },
    {
     "cell_type": "code",
     "collapsed": false,
     "input": [
      "p3 = px.Projection(sub2)\n",
      "sub3 = p3.execute(\"\"\"\n",
      "    MATCH GRAPH (l:Lugar)-(i:Impresion)\n",
      "    TRANSFER (l)-(i)\n",
      "    METHOD ATTRS\n",
      "    SET lugar=l.label\n",
      "\"\"\")"
     ],
     "language": "python",
     "metadata": {},
     "outputs": [],
     "prompt_number": 9
    },
    {
     "cell_type": "heading",
     "level": 4,
     "metadata": {},
     "source": [
      "Refine the graph with some more fine tuned planned transfomations:"
     ]
    },
    {
     "cell_type": "code",
     "collapsed": false,
     "input": [
      "### TRANSFERS ###\n",
      "\n",
      "#Documento --> Persona: attrs - doc_type, fecha, lugar; edges - Edicion\n",
      "#Institucion --> wild: attrs - name\n",
      "#Impresion --> Persona: attrs - type, fecha, lugar; edges - Edicion\n",
      "#Impresion --> Edicion: attrs - lugar\n",
      "#Obra --> Edicion: attrs - genero\n",
      "#Edicion --> Obra: attrs - type, lugar, fecha\n",
      "#Obra --> Persona: attrs - type, lugar, fecha; edges - Edicion\n",
      "\n",
      "### PROJECTION ###\n",
      "\n",
      "#Persona -- Edicion -- Persona --> Persona -- Persona: attrs: fecha"
     ],
     "language": "python",
     "metadata": {},
     "outputs": [],
     "prompt_number": 10
    },
    {
     "cell_type": "code",
     "collapsed": false,
     "input": [
      "p4 = px.Projection(sub3)\n",
      "sub4 = p4.execute(\"\"\"\n",
      "    MATCH GRAPH (d:Documento)-(p:Persona)\n",
      "    TRANSFER (d)-(p)\n",
      "    METHOD EDGES Edicion\n",
      "    SET doc_type=d.doc_type, fecha=d.fecha, lugar=d.lugar\n",
      "\"\"\")"
     ],
     "language": "python",
     "metadata": {},
     "outputs": [],
     "prompt_number": 11
    },
    {
     "cell_type": "code",
     "collapsed": false,
     "input": [
      "p5 = px.Projection(sub4)\n",
      "sub5 = p5.execute(\"\"\"\n",
      "    MATCH GRAPH (i:Institucion)-(wild)\n",
      "    TRANSFER (i)-(wild)\n",
      "    METHOD ATTRS\n",
      "    SET inst=i.label\n",
      "\"\"\")"
     ],
     "language": "python",
     "metadata": {},
     "outputs": [],
     "prompt_number": 12
    },
    {
     "cell_type": "code",
     "collapsed": false,
     "input": [
      "p6 = px.Projection(sub5)\n",
      "sub6 = p6.execute(\"\"\"\n",
      "    MATCH GRAPH (i:Impresion)-(p:Persona)\n",
      "    TRANSFER (i)-(p)\n",
      "    METHOD EDGES Edicion\n",
      "    SET doc_type=i.type, fecha=i.fecha, lugar=i.lugar\n",
      "\"\"\")"
     ],
     "language": "python",
     "metadata": {},
     "outputs": [],
     "prompt_number": 13
    },
    {
     "cell_type": "code",
     "collapsed": false,
     "input": [
      "p7 = px.Projection(sub6)\n",
      "sub7 = p7.execute(\"\"\"\n",
      "    MATCH GRAPH (i:Impresion)-(e:Edicion)\n",
      "    TRANSFER (i)-(e)\n",
      "    METHOD ATTRS\n",
      "    SET lugar=i.lugar\n",
      "\"\"\")"
     ],
     "language": "python",
     "metadata": {},
     "outputs": [],
     "prompt_number": 14
    },
    {
     "cell_type": "code",
     "collapsed": false,
     "input": [
      "p8 = px.Projection(sub7)\n",
      "sub8 = p8.execute(\"\"\"\n",
      "    MATCH GRAPH (o:Obra)-(e:Edicion)\n",
      "    TRANSFER (o)-(e)\n",
      "    METHOD ATTRS\n",
      "    SET genero=o.genero\n",
      "\"\"\")"
     ],
     "language": "python",
     "metadata": {},
     "outputs": [],
     "prompt_number": 15
    },
    {
     "cell_type": "code",
     "collapsed": false,
     "input": [
      "p9 = px.Projection(sub8)\n",
      "sub9 = p9.execute(\"\"\"\n",
      "    MATCH GRAPH (e:Edicion)-(o:Obra)\n",
      "    TRANSFER (e)-(o)\n",
      "    METHOD ATTRS\n",
      "    SET doc_type=e.type, ed_fecha=e.fecha, lugar=e.lugar\n",
      "\"\"\")"
     ],
     "language": "python",
     "metadata": {},
     "outputs": [],
     "prompt_number": 16
    },
    {
     "cell_type": "code",
     "collapsed": false,
     "input": [
      "p10 = px.Projection(sub9)\n",
      "sub10 = p10.execute(\"\"\"\n",
      "    MATCH GRAPH (o:Obra)-(p:Persona)\n",
      "    TRANSFER (o)-(p)\n",
      "    METHOD EDGES Edicion\n",
      "    SET doc_type=o.type, fecha=o.ed_fecha, lugar=o.lugar, author=\"true\"\n",
      "\"\"\")"
     ],
     "language": "python",
     "metadata": {},
     "outputs": [],
     "prompt_number": 17
    },
    {
     "cell_type": "code",
     "collapsed": false,
     "input": [
      "p11 = px.Projection(sub10)\n",
      "sub11 = p11.execute(\"\"\"\n",
      "    MATCH GRAPH (e:Edicion)-(p:Persona)\n",
      "    TRANSFER (e)-(p)\n",
      "    METHOD ATTRS\n",
      "    SET genero=e.genero\n",
      "\"\"\")"
     ],
     "language": "python",
     "metadata": {},
     "outputs": [],
     "prompt_number": 18
    },
    {
     "cell_type": "code",
     "collapsed": false,
     "input": [
      "p12 = px.Projection(sub11)\n",
      "sub12 = p12.execute(\"\"\"\n",
      "    MATCH GRAPH (e:Edicion)-(p:Persona)\n",
      "    TRANSFER (e)-(p)\n",
      "    METHOD ATTRS\n",
      "    SET genero=e.genero\n",
      "\"\"\")"
     ],
     "language": "python",
     "metadata": {},
     "outputs": [],
     "prompt_number": 19
    },
    {
     "cell_type": "code",
     "collapsed": false,
     "input": [
      "p13 = px.Projection(sub12)\n",
      "bipartite = p13.execute(\"\"\"\n",
      "    MATCH (p:Persona)-(e:Edicion)\n",
      "\"\"\")"
     ],
     "language": "python",
     "metadata": {},
     "outputs": [],
     "prompt_number": 20
    },
    {
     "cell_type": "code",
     "collapsed": false,
     "input": [
      "p14 = px.Projection(sub12)\n",
      "projection = p14.execute(\"\"\"\n",
      "    MATCH (p1:Persona)-(e:Edicion)-(p2:Persona)\n",
      "    PROJECT (p1)-(p2)\n",
      "    METHOD NEWMAN Edicion\n",
      "    DELETE e\n",
      "\"\"\")"
     ],
     "language": "python",
     "metadata": {},
     "outputs": [],
     "prompt_number": 21
    },
    {
     "cell_type": "code",
     "collapsed": false,
     "input": [
      "bc = nx.betweenness_centrality(projection, weight=\"weight\")\n",
      "ec = nx.eigenvector_centrality(projection, weight=\"weight\", max_iter=500)\n",
      "cc = nx.closeness_centrality(projection)\n",
      "deg = nx.degree(projection)\n",
      "pr = nx.pagerank(projection, max_iter=500, weight=\"weight\")"
     ],
     "language": "python",
     "metadata": {},
     "outputs": [],
     "prompt_number": 42
    },
    {
     "cell_type": "code",
     "collapsed": false,
     "input": [
      "cent_10_df = pd.DataFrame({\n",
      "    \"bc\": [(k, projection.node[k][\"label\"], bc[k]) for k in sorted(bc, key=bc.get, reverse=True)[0:10]],\n",
      "    \"ec\": [(k, projection.node[k][\"label\"], ec[k]) for k in sorted(ec, key=ec.get, reverse=True)[0:10]],\n",
      "    \"cc\": [(k, projection.node[k][\"label\"], cc[k]) for k in sorted(cc, key=cc.get, reverse=True)[0:10]],\n",
      "    \"dc\": [(k, projection.node[k][\"label\"], deg[k]) for k in sorted(deg, key=deg.get, reverse=True)[0:10]],\n",
      "    \"pr\": [(k, projection.node[k][\"label\"], pr[k]) for k in sorted(pr, key=pr.get, reverse=True)[0:10]]\n",
      "})"
     ],
     "language": "python",
     "metadata": {},
     "outputs": [],
     "prompt_number": 43
    },
    {
     "cell_type": "code",
     "collapsed": false,
     "input": [
      "cent_10_df"
     ],
     "language": "python",
     "metadata": {},
     "outputs": [
      {
       "html": [
        "<div style=\"max-height:1000px;max-width:1500px;overflow:auto;\">\n",
        "<table border=\"1\" class=\"dataframe\">\n",
        "  <thead>\n",
        "    <tr style=\"text-align: right;\">\n",
        "      <th></th>\n",
        "      <th>bc</th>\n",
        "      <th>cc</th>\n",
        "      <th>dc</th>\n",
        "      <th>ec</th>\n",
        "      <th>pr</th>\n",
        "    </tr>\n",
        "  </thead>\n",
        "  <tbody>\n",
        "    <tr>\n",
        "      <th>0</th>\n",
        "      <td> (800, Francisco Murcia de la Llana, 0.16136471...</td>\n",
        "      <td> (800, Francisco Murcia de la Llana, 0.59067816...</td>\n",
        "      <td>          (800, Francisco Murcia de la Llana, 218)</td>\n",
        "      <td> (800, Francisco Murcia de la Llana, 0.37822448...</td>\n",
        "      <td> (1598, Felix Lope de Vega Carpio, 0.0254506062...</td>\n",
        "    </tr>\n",
        "    <tr>\n",
        "      <th>1</th>\n",
        "      <td> (686, Pedro Fernandez de Castro, Conde de Lemo...</td>\n",
        "      <td> (1598, Felix Lope de Vega Carpio, 0.583211732088)</td>\n",
        "      <td>            (1598, Felix Lope de Vega Carpio, 194)</td>\n",
        "      <td> (1598, Felix Lope de Vega Carpio, 0.303466875756)</td>\n",
        "      <td> (800, Francisco Murcia de la Llana, 0.02218104...</td>\n",
        "    </tr>\n",
        "    <tr>\n",
        "      <th>2</th>\n",
        "      <td> (1598, Felix Lope de Vega Carpio, 0.0855830253...</td>\n",
        "      <td> (428, Gutierre de Cetina, Vicario General, 0.5...</td>\n",
        "      <td>   (428, Gutierre de Cetina, Vicario General, 129)</td>\n",
        "      <td> (759, Miguel de Cervantes Saavedra, 0.29886539...</td>\n",
        "      <td> (428, Gutierre de Cetina, Vicario General, 0.0...</td>\n",
        "    </tr>\n",
        "    <tr>\n",
        "      <th>3</th>\n",
        "      <td>           (1356, Pedro Madrigal, 0.0652480428398)</td>\n",
        "      <td> (686, Pedro Fernandez de Castro, Conde de Lemo...</td>\n",
        "      <td> (686, Pedro Fernandez de Castro, Conde de Lemo...</td>\n",
        "      <td> (428, Gutierre de Cetina, Vicario General, 0.2...</td>\n",
        "      <td> (759, Miguel de Cervantes Saavedra, 0.01514121...</td>\n",
        "    </tr>\n",
        "    <tr>\n",
        "      <th>4</th>\n",
        "      <td>              (319, Mateo Aleman, 0.0569761093157)</td>\n",
        "      <td>               (378, Juan de Pina, 0.503940234523)</td>\n",
        "      <td>                          (378, Juan de Pina, 100)</td>\n",
        "      <td> (686, Pedro Fernandez de Castro, Conde de Lemo...</td>\n",
        "      <td> (686, Pedro Fernandez de Castro, Conde de Lemo...</td>\n",
        "    </tr>\n",
        "    <tr>\n",
        "      <th>5</th>\n",
        "      <td>               (61, Roger Velpius, 0.047604084634)</td>\n",
        "      <td>           (1588, Vicente Espinel, 0.503329397875)</td>\n",
        "      <td>                       (1588, Vicente Espinel, 92)</td>\n",
        "      <td>          (793, Juan de la Cuesta, 0.217753791533)</td>\n",
        "      <td>     (1198, Jose de Valdivielso, 0.00906810865151)</td>\n",
        "    </tr>\n",
        "    <tr>\n",
        "      <th>6</th>\n",
        "      <td>      (757, Antonio Freire, Fray, 0.0427894427542)</td>\n",
        "      <td>     (570, Tomas Gracian Dantisco, 0.491998522804)</td>\n",
        "      <td>                      (793, Juan de la Cuesta, 91)</td>\n",
        "      <td>        (1198, Jose de Valdivielso, 0.17170416422)</td>\n",
        "      <td>        (793, Juan de la Cuesta, 0.00888201473676)</td>\n",
        "    </tr>\n",
        "    <tr>\n",
        "      <th>7</th>\n",
        "      <td>              (378, Juan de Pina, 0.0393994615458)</td>\n",
        "      <td>             (987, Jorge de Tovar, 0.491998522804)</td>\n",
        "      <td>                 (570, Tomas Gracian Dantisco, 88)</td>\n",
        "      <td>   (992, Miguel de Ondarza Zabala, 0.129282014982)</td>\n",
        "      <td>           (987, Jorge de Tovar, 0.00842458310103)</td>\n",
        "    </tr>\n",
        "    <tr>\n",
        "      <th>8</th>\n",
        "      <td>          (1588, Vicente Espinel, 0.0351751410123)</td>\n",
        "      <td>          (793, Juan de la Cuesta, 0.490835405729)</td>\n",
        "      <td>                         (987, Jorge de Tovar, 87)</td>\n",
        "      <td>         (796, Hernando de Vallejo, 0.12653608884)</td>\n",
        "      <td>             (319, Mateo Aleman, 0.00812812779948)</td>\n",
        "    </tr>\n",
        "    <tr>\n",
        "      <th>9</th>\n",
        "      <td>             (1593, Alonso Perez, 0.0345238560828)</td>\n",
        "      <td>          (1589, Hernando de Soto, 0.490255907021)</td>\n",
        "      <td>               (992, Miguel de Ondarza Zabala, 87)</td>\n",
        "      <td> (511, Alfonso Lopez de Zuniga y Perez de Guzma...</td>\n",
        "      <td> (992, Miguel de Ondarza Zabala, 0.00797949505449)</td>\n",
        "    </tr>\n",
        "  </tbody>\n",
        "</table>\n",
        "</div>"
       ],
       "metadata": {},
       "output_type": "pyout",
       "prompt_number": 44,
       "text": [
        "                                                  bc  \\\n",
        "0  (800, Francisco Murcia de la Llana, 0.16136471...   \n",
        "1  (686, Pedro Fernandez de Castro, Conde de Lemo...   \n",
        "2  (1598, Felix Lope de Vega Carpio, 0.0855830253...   \n",
        "3            (1356, Pedro Madrigal, 0.0652480428398)   \n",
        "4               (319, Mateo Aleman, 0.0569761093157)   \n",
        "5                (61, Roger Velpius, 0.047604084634)   \n",
        "6       (757, Antonio Freire, Fray, 0.0427894427542)   \n",
        "7               (378, Juan de Pina, 0.0393994615458)   \n",
        "8           (1588, Vicente Espinel, 0.0351751410123)   \n",
        "9              (1593, Alonso Perez, 0.0345238560828)   \n",
        "\n",
        "                                                  cc  \\\n",
        "0  (800, Francisco Murcia de la Llana, 0.59067816...   \n",
        "1  (1598, Felix Lope de Vega Carpio, 0.583211732088)   \n",
        "2  (428, Gutierre de Cetina, Vicario General, 0.5...   \n",
        "3  (686, Pedro Fernandez de Castro, Conde de Lemo...   \n",
        "4                (378, Juan de Pina, 0.503940234523)   \n",
        "5            (1588, Vicente Espinel, 0.503329397875)   \n",
        "6      (570, Tomas Gracian Dantisco, 0.491998522804)   \n",
        "7              (987, Jorge de Tovar, 0.491998522804)   \n",
        "8           (793, Juan de la Cuesta, 0.490835405729)   \n",
        "9           (1589, Hernando de Soto, 0.490255907021)   \n",
        "\n",
        "                                                  dc  \\\n",
        "0           (800, Francisco Murcia de la Llana, 218)   \n",
        "1             (1598, Felix Lope de Vega Carpio, 194)   \n",
        "2    (428, Gutierre de Cetina, Vicario General, 129)   \n",
        "3  (686, Pedro Fernandez de Castro, Conde de Lemo...   \n",
        "4                           (378, Juan de Pina, 100)   \n",
        "5                        (1588, Vicente Espinel, 92)   \n",
        "6                       (793, Juan de la Cuesta, 91)   \n",
        "7                  (570, Tomas Gracian Dantisco, 88)   \n",
        "8                          (987, Jorge de Tovar, 87)   \n",
        "9                (992, Miguel de Ondarza Zabala, 87)   \n",
        "\n",
        "                                                  ec  \\\n",
        "0  (800, Francisco Murcia de la Llana, 0.37822448...   \n",
        "1  (1598, Felix Lope de Vega Carpio, 0.303466875756)   \n",
        "2  (759, Miguel de Cervantes Saavedra, 0.29886539...   \n",
        "3  (428, Gutierre de Cetina, Vicario General, 0.2...   \n",
        "4  (686, Pedro Fernandez de Castro, Conde de Lemo...   \n",
        "5           (793, Juan de la Cuesta, 0.217753791533)   \n",
        "6         (1198, Jose de Valdivielso, 0.17170416422)   \n",
        "7    (992, Miguel de Ondarza Zabala, 0.129282014982)   \n",
        "8          (796, Hernando de Vallejo, 0.12653608884)   \n",
        "9  (511, Alfonso Lopez de Zuniga y Perez de Guzma...   \n",
        "\n",
        "                                                  pr  \n",
        "0  (1598, Felix Lope de Vega Carpio, 0.0254506062...  \n",
        "1  (800, Francisco Murcia de la Llana, 0.02218104...  \n",
        "2  (428, Gutierre de Cetina, Vicario General, 0.0...  \n",
        "3  (759, Miguel de Cervantes Saavedra, 0.01514121...  \n",
        "4  (686, Pedro Fernandez de Castro, Conde de Lemo...  \n",
        "5      (1198, Jose de Valdivielso, 0.00906810865151)  \n",
        "6         (793, Juan de la Cuesta, 0.00888201473676)  \n",
        "7            (987, Jorge de Tovar, 0.00842458310103)  \n",
        "8              (319, Mateo Aleman, 0.00812812779948)  \n",
        "9  (992, Miguel de Ondarza Zabala, 0.00797949505449)  "
       ]
      }
     ],
     "prompt_number": 44
    },
    {
     "cell_type": "heading",
     "level": 4,
     "metadata": {},
     "source": [
      "Preferential attachment:"
     ]
    },
    {
     "cell_type": "code",
     "collapsed": false,
     "input": [
      "pd.Series(deg.values()).hist()"
     ],
     "language": "python",
     "metadata": {},
     "outputs": [
      {
       "metadata": {},
       "output_type": "pyout",
       "prompt_number": 45,
       "text": [
        "<matplotlib.axes._subplots.AxesSubplot at 0x7f3b183a0490>"
       ]
      },
      {
       "metadata": {},
       "output_type": "display_data",
       "png": "[encoded data removed]",
       "text": [
        "<matplotlib.figure.Figure at 0x7f3b18919c50>"
       ]
      }
     ],
     "prompt_number": 45
    },
    {
     "cell_type": "code",
     "collapsed": false,
     "input": [
      "def prob_dist(itrbl):\n",
      "    count = {}\n",
      "    for i in itrbl:\n",
      "        count.setdefault(i, 0)\n",
      "        count[i] += 1\n",
      "    sr = pd.Series(count)\n",
      "    prob = sr.apply(lambda x: float(x) / len(itrbl))\n",
      "    return prob"
     ],
     "language": "python",
     "metadata": {},
     "outputs": [],
     "prompt_number": 46
    },
    {
     "cell_type": "code",
     "collapsed": false,
     "input": [
      "deg_prob = prob_dist(deg.values())"
     ],
     "language": "python",
     "metadata": {},
     "outputs": [],
     "prompt_number": 47
    },
    {
     "cell_type": "code",
     "collapsed": false,
     "input": [
      "plt.scatter(deg_prob.index, deg_prob)"
     ],
     "language": "python",
     "metadata": {},
     "outputs": [
      {
       "metadata": {},
       "output_type": "pyout",
       "prompt_number": 48,
       "text": [
        "<matplotlib.collections.PathCollection at 0x7f3b18233310>"
       ]
      },
      {
       "metadata": {},
       "output_type": "display_data",
       "png": "[encoded data removed]",
       "text": [
        "<matplotlib.figure.Figure at 0x7f3b178217d0>"
       ]
      }
     ],
     "prompt_number": 48
    },
    {
     "cell_type": "heading",
     "level": 4,
     "metadata": {},
     "source": [
      "Neighborhood overlap:"
     ]
    },
    {
     "cell_type": "code",
     "collapsed": false,
     "input": [
      "edges = [(s, t, attrs[\"weight\"]) for (s, t, attrs) in projection.edges(data=True)]\n",
      "weights = pd.Series([w for (s, t, w) in edges])"
     ],
     "language": "python",
     "metadata": {},
     "outputs": [],
     "prompt_number": 49
    },
    {
     "cell_type": "code",
     "collapsed": false,
     "input": [
      "def neigh_overlap(graph, edges):\n",
      "    overlap = []\n",
      "    for s, t, w in edges:\n",
      "        snbrs = set(graph[s])\n",
      "        tnbrs = set(graph[t])\n",
      "        intersect = float(len(snbrs & tnbrs))\n",
      "        union = len(snbrs | tnbrs)\n",
      "        ovlp = intersect / union\n",
      "        overlap.append((w, ovlp))\n",
      "    return sorted(overlap, key=lambda x: x[0])"
     ],
     "language": "python",
     "metadata": {},
     "outputs": [],
     "prompt_number": 52
    },
    {
     "cell_type": "code",
     "collapsed": false,
     "input": [
      "ovrlp = [y for (x, y) in neigh_overlap(projection, edges)]\n",
      "pd.Series(ovrlp).plot()"
     ],
     "language": "python",
     "metadata": {},
     "outputs": [
      {
       "metadata": {},
       "output_type": "pyout",
       "prompt_number": 55,
       "text": [
        "<matplotlib.axes._subplots.AxesSubplot at 0x7f3b1801f750>"
       ]
      },
      {
       "metadata": {},
       "output_type": "display_data",
       "png": "[encoded data removed]",
       "text": [
        "<matplotlib.figure.Figure at 0x7f3b188e3350>"
       ]
      }
     ],
     "prompt_number": 55
    },
    {
     "cell_type": "heading",
     "level": 4,
     "metadata": {},
     "source": [
      "Minimum density projection:"
     ]
    },
    {
     "cell_type": "code",
     "collapsed": false,
     "input": [
      "print(len(projection), len(projection.edges()))"
     ],
     "language": "python",
     "metadata": {},
     "outputs": [
      {
       "output_type": "stream",
       "stream": "stdout",
       "text": [
        "(463, 5234)\n"
       ]
      }
     ],
     "prompt_number": 33
    },
    {
     "cell_type": "code",
     "collapsed": false,
     "input": [
      "cutoffs, densities = px.proj_density(projection, 0.02, 0.01, 25)\n",
      "plt.plot(cutoffs, densities)"
     ],
     "language": "python",
     "metadata": {},
     "outputs": [
      {
       "metadata": {},
       "output_type": "pyout",
       "prompt_number": 34,
       "text": [
        "[<matplotlib.lines.Line2D at 0x7f3b1888c550>]"
       ]
      },
      {
       "metadata": {},
       "output_type": "display_data",
       "png": "[encoded data removed]",
       "text": [
        "<matplotlib.figure.Figure at 0x7f3b181bcb50>"
       ]
      }
     ],
     "prompt_number": 34
    },
    {
     "cell_type": "code",
     "collapsed": false,
     "input": [
      "subproj = px.remove_edges(projection.copy(), 0.09)\n",
      "print(len(subproj), len(subproj.edges()))"
     ],
     "language": "python",
     "metadata": {},
     "outputs": [
      {
       "output_type": "stream",
       "stream": "stdout",
       "text": [
        "(356, 2696)\n"
       ]
      }
     ],
     "prompt_number": 35
    },
    {
     "cell_type": "code",
     "collapsed": false,
     "input": [
      "edges = [(s, t, attrs[\"weight\"]) for (s, t, attrs) in subproj.edges(data=True)]\n",
      "weights = pd.Series([w for (s, t, w) in edges])\n",
      "no = neigh_overlap(subproj, edges)\n",
      "ovrlp = [y for (x, y) in no]"
     ],
     "language": "python",
     "metadata": {},
     "outputs": [],
     "prompt_number": 62
    },
    {
     "cell_type": "code",
     "collapsed": false,
     "input": [
      "plt.rcParams['figure.figsize'] = (17, 7)"
     ],
     "language": "python",
     "metadata": {},
     "outputs": [],
     "prompt_number": 77
    },
    {
     "cell_type": "code",
     "collapsed": false,
     "input": [
      "neighborhood_overlap = pd.DataFrame(no).sort(columns=[0, 1])\n",
      "plt.scatter(range(len(neighborhood_overlap)), neighborhood_overlap[1])"
     ],
     "language": "python",
     "metadata": {},
     "outputs": [
      {
       "metadata": {},
       "output_type": "pyout",
       "prompt_number": 78,
       "text": [
        "<matplotlib.collections.PathCollection at 0x7f3b17923790>"
       ]
      },
      {
       "metadata": {},
       "output_type": "display_data",
       "png": "[encoded data removed]",
       "text": [
        "<matplotlib.figure.Figure at 0x7f3b179b6ad0>"
       ]
      }
     ],
     "prompt_number": 78
    },
    {
     "cell_type": "code",
     "collapsed": false,
     "input": [
      "neighborhood_overlap[1]"
     ],
     "language": "python",
     "metadata": {},
     "outputs": []
    },
    {
     "cell_type": "code",
     "collapsed": false,
     "input": [
      "nx.write_gexf(process_projection(subproj), 'subproj.gexf')"
     ],
     "language": "python",
     "metadata": {},
     "outputs": [],
     "prompt_number": 36
    },
    {
     "cell_type": "code",
     "collapsed": false,
     "input": [
      "bc = nx.betweenness_centrality(subproj, weight=\"weight\")\n",
      "ec = nx.eigenvector_centrality(subproj, weight=\"weight\", max_iter=500)\n",
      "cc = nx.closeness_centrality(subproj)\n",
      "deg = nx.degree(subproj)\n",
      "pr = nx.pagerank(subproj, max_iter=500, weight=\"weight\")"
     ],
     "language": "python",
     "metadata": {},
     "outputs": [],
     "prompt_number": 37
    },
    {
     "cell_type": "code",
     "collapsed": false,
     "input": [
      "cent_10_df = pd.DataFrame({\n",
      "    \"bc\": [(k, projection.node[k][\"label\"], bc[k]) for k in sorted(bc, key=bc.get, reverse=True)[0:10]],\n",
      "    \"ec\": [(k, projection.node[k][\"label\"], ec[k]) for k in sorted(ec, key=ec.get, reverse=True)[0:10]],\n",
      "    \"cc\": [(k, projection.node[k][\"label\"], cc[k]) for k in sorted(cc, key=cc.get, reverse=True)[0:10]],\n",
      "    \"dc\": [(k, projection.node[k][\"label\"], deg[k]) for k in sorted(deg, key=deg.get, reverse=True)[0:10]],\n",
      "    \"pr\": [(k, projection.node[k][\"label\"], pr[k]) for k in sorted(pr, key=pr.get, reverse=True)[0:10]]\n",
      "})"
     ],
     "language": "python",
     "metadata": {},
     "outputs": [],
     "prompt_number": 38
    },
    {
     "cell_type": "code",
     "collapsed": false,
     "input": [
      "cent_10_df"
     ],
     "language": "python",
     "metadata": {},
     "outputs": [
      {
       "html": [
        "<div style=\"max-height:1000px;max-width:1500px;overflow:auto;\">\n",
        "<table border=\"1\" class=\"dataframe\">\n",
        "  <thead>\n",
        "    <tr style=\"text-align: right;\">\n",
        "      <th></th>\n",
        "      <th>bc</th>\n",
        "      <th>cc</th>\n",
        "      <th>dc</th>\n",
        "      <th>ec</th>\n",
        "      <th>pr</th>\n",
        "    </tr>\n",
        "  </thead>\n",
        "  <tbody>\n",
        "    <tr>\n",
        "      <th>0</th>\n",
        "      <td> (1598, Felix Lope de Vega Carpio, 0.204720751782)</td>\n",
        "      <td> (1598, Felix Lope de Vega Carpio, 0.575117370892)</td>\n",
        "      <td>            (1598, Felix Lope de Vega Carpio, 148)</td>\n",
        "      <td> (800, Francisco Murcia de la Llana, 0.38637083...</td>\n",
        "      <td> (1598, Felix Lope de Vega Carpio, 0.0317448934...</td>\n",
        "    </tr>\n",
        "    <tr>\n",
        "      <th>1</th>\n",
        "      <td> (686, Pedro Fernandez de Castro, Conde de Lemo...</td>\n",
        "      <td> (800, Francisco Murcia de la Llana, 0.53169556...</td>\n",
        "      <td>          (800, Francisco Murcia de la Llana, 109)</td>\n",
        "      <td> (759, Miguel de Cervantes Saavedra, 0.32132095...</td>\n",
        "      <td> (800, Francisco Murcia de la Llana, 0.02389811...</td>\n",
        "    </tr>\n",
        "    <tr>\n",
        "      <th>2</th>\n",
        "      <td> (800, Francisco Murcia de la Llana, 0.09974729...</td>\n",
        "      <td> (428, Gutierre de Cetina, Vicario General, 0.5...</td>\n",
        "      <td>    (428, Gutierre de Cetina, Vicario General, 92)</td>\n",
        "      <td> (1598, Felix Lope de Vega Carpio, 0.298842872077)</td>\n",
        "      <td> (759, Miguel de Cervantes Saavedra, 0.01930013...</td>\n",
        "    </tr>\n",
        "    <tr>\n",
        "      <th>3</th>\n",
        "      <td> (428, Gutierre de Cetina, Vicario General, 0.0...</td>\n",
        "      <td> (686, Pedro Fernandez de Castro, Conde de Lemo...</td>\n",
        "      <td> (686, Pedro Fernandez de Castro, Conde de Lemo...</td>\n",
        "      <td> (428, Gutierre de Cetina, Vicario General, 0.2...</td>\n",
        "      <td> (428, Gutierre de Cetina, Vicario General, 0.0...</td>\n",
        "    </tr>\n",
        "    <tr>\n",
        "      <th>4</th>\n",
        "      <td>              (319, Mateo Aleman, 0.0860327093664)</td>\n",
        "      <td>               (61, Roger Velpius, 0.488076976712)</td>\n",
        "      <td>           (759, Miguel de Cervantes Saavedra, 69)</td>\n",
        "      <td> (686, Pedro Fernandez de Castro, Conde de Lemo...</td>\n",
        "      <td> (686, Pedro Fernandez de Castro, Conde de Lemo...</td>\n",
        "    </tr>\n",
        "    <tr>\n",
        "      <th>5</th>\n",
        "      <td> (1584, Alonso Geronimo de Salas Barbadillo, 0....</td>\n",
        "      <td>           (1588, Vicente Espinel, 0.488076976712)</td>\n",
        "      <td>                           (378, Juan de Pina, 54)</td>\n",
        "      <td>           (793, Juan de la Cuesta, 0.21982986108)</td>\n",
        "      <td>      (1198, Jose de Valdivielso, 0.0109915723166)</td>\n",
        "    </tr>\n",
        "    <tr>\n",
        "      <th>6</th>\n",
        "      <td>              (61, Roger Velpius, 0.0730752567633)</td>\n",
        "      <td>          (1589, Hernando de Soto, 0.486014679627)</td>\n",
        "      <td>                   (1058, Alonso de Contreras, 53)</td>\n",
        "      <td>       (1198, Jose de Valdivielso, 0.179773602564)</td>\n",
        "      <td>              (319, Mateo Aleman, 0.0106909201779)</td>\n",
        "    </tr>\n",
        "    <tr>\n",
        "      <th>7</th>\n",
        "      <td>           (183, Pedro Crasbeeck, 0.0613199521626)</td>\n",
        "      <td> (759, Miguel de Cervantes Saavedra, 0.47859975...</td>\n",
        "      <td>                   (1198, Jose de Valdivielso, 51)</td>\n",
        "      <td> (511, Alfonso Lopez de Zuniga y Perez de Guzma...</td>\n",
        "      <td>        (1587, Alonso de Barros, 0.00966025999482)</td>\n",
        "    </tr>\n",
        "    <tr>\n",
        "      <th>8</th>\n",
        "      <td>     (1594, Bernardo de Balbuena, 0.0593459059441)</td>\n",
        "      <td>             (987, Jorge de Tovar, 0.477275826466)</td>\n",
        "      <td>                         (987, Jorge de Tovar, 49)</td>\n",
        "      <td>        (796, Hernando de Vallejo, 0.130637964335)</td>\n",
        "      <td>        (760, Ruy Pirez da Veiga, 0.0095535340362)</td>\n",
        "    </tr>\n",
        "    <tr>\n",
        "      <th>9</th>\n",
        "      <td>           (758, Jorge Rodriguez, 0.0549557172976)</td>\n",
        "      <td>          (793, Juan de la Cuesta, 0.473347630364)</td>\n",
        "      <td>   (1584, Alonso Geronimo de Salas Barbadillo, 49)</td>\n",
        "      <td>    (992, Miguel de Ondarza Zabala, 0.12441043148)</td>\n",
        "      <td>           (987, Jorge de Tovar, 0.00937986766987)</td>\n",
        "    </tr>\n",
        "  </tbody>\n",
        "</table>\n",
        "</div>"
       ],
       "metadata": {},
       "output_type": "pyout",
       "prompt_number": 39,
       "text": [
        "                                                  bc  \\\n",
        "0  (1598, Felix Lope de Vega Carpio, 0.204720751782)   \n",
        "1  (686, Pedro Fernandez de Castro, Conde de Lemo...   \n",
        "2  (800, Francisco Murcia de la Llana, 0.09974729...   \n",
        "3  (428, Gutierre de Cetina, Vicario General, 0.0...   \n",
        "4               (319, Mateo Aleman, 0.0860327093664)   \n",
        "5  (1584, Alonso Geronimo de Salas Barbadillo, 0....   \n",
        "6               (61, Roger Velpius, 0.0730752567633)   \n",
        "7            (183, Pedro Crasbeeck, 0.0613199521626)   \n",
        "8      (1594, Bernardo de Balbuena, 0.0593459059441)   \n",
        "9            (758, Jorge Rodriguez, 0.0549557172976)   \n",
        "\n",
        "                                                  cc  \\\n",
        "0  (1598, Felix Lope de Vega Carpio, 0.575117370892)   \n",
        "1  (800, Francisco Murcia de la Llana, 0.53169556...   \n",
        "2  (428, Gutierre de Cetina, Vicario General, 0.5...   \n",
        "3  (686, Pedro Fernandez de Castro, Conde de Lemo...   \n",
        "4                (61, Roger Velpius, 0.488076976712)   \n",
        "5            (1588, Vicente Espinel, 0.488076976712)   \n",
        "6           (1589, Hernando de Soto, 0.486014679627)   \n",
        "7  (759, Miguel de Cervantes Saavedra, 0.47859975...   \n",
        "8              (987, Jorge de Tovar, 0.477275826466)   \n",
        "9           (793, Juan de la Cuesta, 0.473347630364)   \n",
        "\n",
        "                                                  dc  \\\n",
        "0             (1598, Felix Lope de Vega Carpio, 148)   \n",
        "1           (800, Francisco Murcia de la Llana, 109)   \n",
        "2     (428, Gutierre de Cetina, Vicario General, 92)   \n",
        "3  (686, Pedro Fernandez de Castro, Conde de Lemo...   \n",
        "4            (759, Miguel de Cervantes Saavedra, 69)   \n",
        "5                            (378, Juan de Pina, 54)   \n",
        "6                    (1058, Alonso de Contreras, 53)   \n",
        "7                    (1198, Jose de Valdivielso, 51)   \n",
        "8                          (987, Jorge de Tovar, 49)   \n",
        "9    (1584, Alonso Geronimo de Salas Barbadillo, 49)   \n",
        "\n",
        "                                                  ec  \\\n",
        "0  (800, Francisco Murcia de la Llana, 0.38637083...   \n",
        "1  (759, Miguel de Cervantes Saavedra, 0.32132095...   \n",
        "2  (1598, Felix Lope de Vega Carpio, 0.298842872077)   \n",
        "3  (428, Gutierre de Cetina, Vicario General, 0.2...   \n",
        "4  (686, Pedro Fernandez de Castro, Conde de Lemo...   \n",
        "5            (793, Juan de la Cuesta, 0.21982986108)   \n",
        "6        (1198, Jose de Valdivielso, 0.179773602564)   \n",
        "7  (511, Alfonso Lopez de Zuniga y Perez de Guzma...   \n",
        "8         (796, Hernando de Vallejo, 0.130637964335)   \n",
        "9     (992, Miguel de Ondarza Zabala, 0.12441043148)   \n",
        "\n",
        "                                                  pr  \n",
        "0  (1598, Felix Lope de Vega Carpio, 0.0317448934...  \n",
        "1  (800, Francisco Murcia de la Llana, 0.02389811...  \n",
        "2  (759, Miguel de Cervantes Saavedra, 0.01930013...  \n",
        "3  (428, Gutierre de Cetina, Vicario General, 0.0...  \n",
        "4  (686, Pedro Fernandez de Castro, Conde de Lemo...  \n",
        "5       (1198, Jose de Valdivielso, 0.0109915723166)  \n",
        "6               (319, Mateo Aleman, 0.0106909201779)  \n",
        "7         (1587, Alonso de Barros, 0.00966025999482)  \n",
        "8         (760, Ruy Pirez da Veiga, 0.0095535340362)  \n",
        "9            (987, Jorge de Tovar, 0.00937986766987)  "
       ]
      }
     ],
     "prompt_number": 39
    },
    {
     "cell_type": "code",
     "collapsed": false,
     "input": [
      "pd.Series(deg.values()).hist()"
     ],
     "language": "python",
     "metadata": {},
     "outputs": [
      {
       "metadata": {},
       "output_type": "pyout",
       "prompt_number": 40,
       "text": [
        "<matplotlib.axes._subplots.AxesSubplot at 0x7f3b1807c710>"
       ]
      },
      {
       "metadata": {},
       "output_type": "display_data",
       "png": "[encoded data removed]",
       "text": [
        "<matplotlib.figure.Figure at 0x7f3b1898a690>"
       ]
      }
     ],
     "prompt_number": 40
    },
    {
     "cell_type": "code",
     "collapsed": false,
     "input": [
      "deg_prob = prob_dist(nx.degree(subproj).values())\n",
      "plt.scatter(deg_prob.index, deg_prob)"
     ],
     "language": "python",
     "metadata": {},
     "outputs": [
      {
       "metadata": {},
       "output_type": "pyout",
       "prompt_number": 41,
       "text": [
        "<matplotlib.collections.PathCollection at 0x7f3b17dc9950>"
       ]
      },
      {
       "metadata": {},
       "output_type": "display_data",
       "png": "[encoded data removed]",
       "text": [
        "<matplotlib.figure.Figure at 0x7f3b18146bd0>"
       ]
      }
     ],
     "prompt_number": 41
    },
    {
     "cell_type": "heading",
     "level": 4,
     "metadata": {},
     "source": [
      "Temporal subgraph analysis:"
     ]
    },
    {
     "cell_type": "code",
     "collapsed": false,
     "input": [
      "subgraphs = temporal_subgraphs(bipartite, 1598, 1619)"
     ],
     "language": "python",
     "metadata": {},
     "outputs": []
    },
    {
     "cell_type": "code",
     "collapsed": false,
     "input": [
      "node_count = [len(s) for s in subgraphs]\n",
      "edge_count = [len(s.edges()) for s in subgraphs]"
     ],
     "language": "python",
     "metadata": {},
     "outputs": []
    },
    {
     "cell_type": "code",
     "collapsed": false,
     "input": [
      "plt.plot(node_count, edge_count)"
     ],
     "language": "python",
     "metadata": {},
     "outputs": []
    },
    {
     "cell_type": "code",
     "collapsed": false,
     "input": [
      "dens = pd.Series([nx.density(s) for s in subgraphs])"
     ],
     "language": "python",
     "metadata": {},
     "outputs": []
    },
    {
     "cell_type": "code",
     "collapsed": false,
     "input": [
      "dens.plot()"
     ],
     "language": "python",
     "metadata": {},
     "outputs": []
    },
    {
     "cell_type": "code",
     "collapsed": false,
     "input": [
      "trans = pd.Series([nx.transitivity(s) for s in subgraphs])"
     ],
     "language": "python",
     "metadata": {},
     "outputs": []
    },
    {
     "cell_type": "code",
     "collapsed": false,
     "input": [
      "trans.plot()"
     ],
     "language": "python",
     "metadata": {},
     "outputs": []
    },
    {
     "cell_type": "code",
     "collapsed": false,
     "input": [
      "avg_clust = pd.Series([nx.average_clustering(s) for s in subgraphs])"
     ],
     "language": "python",
     "metadata": {},
     "outputs": []
    },
    {
     "cell_type": "code",
     "collapsed": false,
     "input": [
      "avg_clust.plot()"
     ],
     "language": "python",
     "metadata": {},
     "outputs": []
    },
    {
     "cell_type": "heading",
     "level": 4,
     "metadata": {},
     "source": [
      "Triangle formation analysis:"
     ]
    },
    {
     "cell_type": "code",
     "collapsed": false,
     "input": [],
     "language": "python",
     "metadata": {},
     "outputs": []
    }
   ],
   "metadata": {}
  }
 ]
}