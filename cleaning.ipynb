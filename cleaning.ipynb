{
 "metadata": {
  "name": "",
  "signature": "sha256:bfc1076b8e10de6dbafcaed3351781af10f3a3809ca34a407b98deef9b88c000"
 },
 "nbformat": 3,
 "nbformat_minor": 0,
 "worksheets": [
  {
   "cells": [
    {
     "cell_type": "code",
     "collapsed": false,
     "input": [
      "%matplotlib inline"
     ],
     "language": "python",
     "metadata": {},
     "outputs": [],
     "prompt_number": 100
    },
    {
     "cell_type": "code",
     "collapsed": false,
     "input": [
      "import networkx as nx\n",
      "import projx as px"
     ],
     "language": "python",
     "metadata": {},
     "outputs": [],
     "prompt_number": 101
    },
    {
     "cell_type": "heading",
     "level": 4,
     "metadata": {},
     "source": [
      "Dirty XML from Gephi"
     ]
    },
    {
     "cell_type": "code",
     "collapsed": false,
     "input": [
      "g = nx.read_graphml('data/full_prelims.graphml').to_undirected()\n",
      "g.nodes(data=True)[0]"
     ],
     "language": "python",
     "metadata": {},
     "outputs": [
      {
       "metadata": {},
       "output_type": "pyout",
       "prompt_number": 102,
       "text": [
        "('2318',\n",
        " {'Fecha': u'1605-04-01',\n",
        "  'Titulo': u'Erratas_Arcadia Madrid Cuesta 1605',\n",
        "  '[Schema] Type': u'Fe de erratas',\n",
        "  '[Schema] Type Id': u'153',\n",
        "  'b': 153,\n",
        "  'g': 153,\n",
        "  'label': u'Erratas_Arcadia Madrid Cuesta 1605',\n",
        "  'r': 153,\n",
        "  'size': 10.0,\n",
        "  'x': 379.74106,\n",
        "  'y': -81.48442})"
       ]
      }
     ],
     "prompt_number": 102
    },
    {
     "cell_type": "code",
     "collapsed": false,
     "input": [
      "# Process the data with a couple one-off functions.\n",
      "def process_graph(g):\n",
      "    graph = nx.Graph()\n",
      "    to_merge = [u'Fe de erratas', u'Tasa', u'Aprobacion', u'Carta',\n",
      "                u'Otro documento', u'Privilegio/Licencia']\n",
      "    ignore = ['x', 'y', 'r', 'size', 'b', 'g', '[Schema] Type', '[Schema] Type Id', 'label', 'Nombre']\n",
      "    rel_types = []\n",
      "    for n, attrs in g.nodes(data=True):\n",
      "        new_attrs = {k.lower(): v.replace('\"', \"\").encode('utf-8') for (k, v) in attrs.items() if k not in ignore}\n",
      "        graph.add_node(n, new_attrs)\n",
      "        node_type = g.node[n][\"[Schema] Type\"]\n",
      "        if node_type in to_merge:\n",
      "            graph.node[n][\"doc_type\"] = node_type\n",
      "            node_type = u'Documento'\n",
      "        graph.node[n][\"type\"] = node_type\n",
      "        graph.node[n][\"label\"] = g.node[n][\"label\"].replace('\"', '')     \n",
      "    for s, t, attrs in g.edges(data=True):\n",
      "        try:\n",
      "            rel_type = '{0}_{1}'.format(graph.node[s][\"type\"], graph.node[t][\"type\"])\n",
      "            rev_rel_type = '{0}_{1}'.format(graph.node[t][\"type\"], graph.node[s][\"type\"])\n",
      "            rel_type = rel_type.lower()\n",
      "            rev_rel_type = rev_rel_type.lower()\n",
      "            if rel_type not in rel_types and rev_rel_type not in rel_types:\n",
      "                rel_types.append(rel_type)\n",
      "            elif rev_rel_type in rel_types:\n",
      "                rel_type = rev_rel_type\n",
      "            new_attrs = {\"type\": rel_type}\n",
      "            graph.add_edge(s, t, new_attrs)\n",
      "        except KeyError:\n",
      "            print('Failed to add edge: {0}, {1} - No Allowed Relationship for RelTypeId {2}'.format(\n",
      "                s, t, attrs['[Schema] Allowed Relationship Id']\n",
      "            ))\n",
      "    return graph\n",
      "\n",
      "\n",
      "def process_projection(proj):\n",
      "    g = proj.copy()\n",
      "    for n, attrs in proj.nodes(data=True):\n",
      "        places = attrs.get(\"lugar\", {})\n",
      "        places = sorted(places, key=places.get, reverse=True)\n",
      "        dates = attrs.get(\"fecha\", {})\n",
      "        genres = attrs.get(\"genero\", {})\n",
      "        genres = sorted(genres, key=genres.get, reverse=True)\n",
      "        date_list= []\n",
      "        for k, v in dates.items():\n",
      "            year = k.split(\"-\")[0]\n",
      "            if year:\n",
      "                date_list += [int(year)] * v\n",
      "        if date_list:\n",
      "            avg_date = int(sum(date_list) / float(len(date_list)))\n",
      "        else:\n",
      "            avg_date = \"\"\n",
      "        if places:\n",
      "            top_place = places[0]\n",
      "            try:\n",
      "                second_place = places[1]\n",
      "            except IndexError:\n",
      "                second_place = \"\"\n",
      "        else:\n",
      "            top_place = \"\"\n",
      "            second_place = \"\"\n",
      "        if genres:\n",
      "            top_genre = genres[0]\n",
      "            try:\n",
      "                second_genre = genres[1]\n",
      "            except IndexError:\n",
      "                second_genre = \"\"\n",
      "        else:\n",
      "            top_genre = \"\"\n",
      "            second_genre = \"\"\n",
      "        g.node[n][\"avg_date\"] = avg_date\n",
      "        g.node[n][\"top_place\"] = top_place\n",
      "        g.node[n][\"top_genre\"] = top_genre\n",
      "        g.node[n][\"second_place\"] = second_place\n",
      "        g.node[n][\"second_genre\"] = second_genre\n",
      "    for s, t, attrs in proj.edges(data=True):\n",
      "        earliest_year = 2000\n",
      "        dates = attrs.get(\"fecha\", {})\n",
      "        for k, v in dates.items():\n",
      "            year = int(k.split(\"-\")[0])\n",
      "            if year < earliest_year:\n",
      "                earliest_year = year\n",
      "        g.adj[s][t][\"earliest_year\"] = earliest_year\n",
      "        g.adj[t][s][\"earliest_year\"] = earliest_year\n",
      "    return g"
     ],
     "language": "python",
     "metadata": {},
     "outputs": [],
     "prompt_number": 103
    },
    {
     "cell_type": "code",
     "collapsed": false,
     "input": [
      "graph = process_graph(g)"
     ],
     "language": "python",
     "metadata": {},
     "outputs": [],
     "prompt_number": 104
    },
    {
     "cell_type": "heading",
     "level": 4,
     "metadata": {},
     "source": [
      "Transfer the Lugar type as an attribute to documents, impressions, institutions:<br><br>\n",
      "\n",
      "(need to implement WHERE in MATCH statement and I could do this is one statement)"
     ]
    },
    {
     "cell_type": "code",
     "collapsed": false,
     "input": [
      "p1 = px.Projection(graph)\n",
      "sub1 = p1.execute(\"\"\"\n",
      "    MATCH GRAPH (l:Lugar)-(d:Documento)\n",
      "    TRANSFER (l)-(d)\n",
      "    METHOD ATTRS\n",
      "    SET lugar=l.label\n",
      "\"\"\")"
     ],
     "language": "python",
     "metadata": {},
     "outputs": [],
     "prompt_number": 105
    },
    {
     "cell_type": "code",
     "collapsed": false,
     "input": [
      "p2 = px.Projection(sub1)\n",
      "sub2 = p2.execute(\"\"\"\n",
      "    MATCH GRAPH (l:Lugar)-(d:Dedicatoria)\n",
      "    TRANSFER (l)-(d)\n",
      "    METHOD ATTRS\n",
      "    SET lugar=l.label\n",
      "\"\"\")"
     ],
     "language": "python",
     "metadata": {},
     "outputs": [],
     "prompt_number": 106
    },
    {
     "cell_type": "code",
     "collapsed": false,
     "input": [
      "p3 = px.Projection(sub2)\n",
      "sub3 = p3.execute(\"\"\"\n",
      "    MATCH GRAPH (l:Lugar)-(i:Institucion)\n",
      "    TRANSFER (l)-(i)\n",
      "    METHOD ATTRS\n",
      "    SET lugar=l.label\n",
      "\"\"\")"
     ],
     "language": "python",
     "metadata": {},
     "outputs": [],
     "prompt_number": 107
    },
    {
     "cell_type": "code",
     "collapsed": false,
     "input": [
      "p4 = px.Projection(sub3)\n",
      "sub4 = p4.execute(\"\"\"\n",
      "    MATCH GRAPH (l:Lugar)-(i:Impresion)\n",
      "    TRANSFER (l)-(i)\n",
      "    METHOD ATTRS\n",
      "    SET lugar=l.label\n",
      "\"\"\")"
     ],
     "language": "python",
     "metadata": {},
     "outputs": [],
     "prompt_number": 108
    },
    {
     "cell_type": "code",
     "collapsed": false,
     "input": [
      "nx.write_gexf(sub3, 'projections/multipartite.gexf')"
     ],
     "language": "python",
     "metadata": {},
     "outputs": [],
     "prompt_number": 109
    },
    {
     "cell_type": "heading",
     "level": 4,
     "metadata": {},
     "source": [
      "Refine the graph with some more fine tuned planned transfomations:"
     ]
    },
    {
     "cell_type": "code",
     "collapsed": false,
     "input": [
      "### TRANSFERS ###\n",
      "\n",
      "#Documento --> Persona: attrs - doc_type, fecha, lugar; edges - Edicion\n",
      "#Institucion --> wild: attrs - name\n",
      "#Impresion --> Persona: attrs - type, fecha, lugar; edges - Edicion\n",
      "#Impresion --> Edicion: attrs - lugar\n",
      "#Obra --> Edicion: attrs - genero\n",
      "#Edicion --> Obra: attrs - type, lugar, fecha\n",
      "#Obra --> Persona: attrs - type, lugar, fecha; edges - Edicion\n",
      "\n",
      "### PROJECTION ###\n",
      "\n",
      "#Persona -- Edicion -- Persona --> Persona -- Persona: attrs: fecha"
     ],
     "language": "python",
     "metadata": {},
     "outputs": [],
     "prompt_number": 110
    },
    {
     "cell_type": "code",
     "collapsed": false,
     "input": [
      "p5 = px.Projection(sub4)\n",
      "sub5 = p5.execute(\"\"\"\n",
      "    MATCH GRAPH (d:Dedicatoria)-(p:Persona)\n",
      "    TRANSFER (d)-(p)\n",
      "    METHOD EDGES Edicion\n",
      "    SET doc_type=\"dedicatory\", fecha=d.fecha, lugar=d.lugar, role=\"patron\"\n",
      "\"\"\")"
     ],
     "language": "python",
     "metadata": {},
     "outputs": [],
     "prompt_number": 111
    },
    {
     "cell_type": "code",
     "collapsed": false,
     "input": [
      "p6 = px.Projection(sub5)\n",
      "sub6 = p6.execute(\"\"\"\n",
      "    MATCH GRAPH (d:Documento)-(p:Persona)\n",
      "    TRANSFER (d)-(p)\n",
      "    METHOD EDGES Edicion\n",
      "    SET doc_type=d.doc_type, fecha=d.fecha, lugar=d.lugar, role=\"signatory\"\n",
      "\"\"\")"
     ],
     "language": "python",
     "metadata": {},
     "outputs": [],
     "prompt_number": 112
    },
    {
     "cell_type": "code",
     "collapsed": false,
     "input": [
      "p7 = px.Projection(sub6)\n",
      "sub7 = p7.execute(\"\"\"\n",
      "    MATCH GRAPH (i:Institucion)-(wild)\n",
      "    TRANSFER (i)-(wild)\n",
      "    METHOD ATTRS\n",
      "    SET inst=i.label\n",
      "\"\"\")"
     ],
     "language": "python",
     "metadata": {},
     "outputs": [],
     "prompt_number": 113
    },
    {
     "cell_type": "code",
     "collapsed": false,
     "input": [
      "p8 = px.Projection(sub7)\n",
      "sub8 = p8.execute(\"\"\"\n",
      "    MATCH GRAPH (i:Impresion)-(p:Persona)\n",
      "    TRANSFER (i)-(p)\n",
      "    METHOD EDGES Edicion\n",
      "    SET doc_type=i.type, fecha=i.fecha, lugar=i.lugar, role=\"printer/editor\"\n",
      "\"\"\")"
     ],
     "language": "python",
     "metadata": {},
     "outputs": [],
     "prompt_number": 114
    },
    {
     "cell_type": "code",
     "collapsed": false,
     "input": [
      "p9 = px.Projection(sub8)\n",
      "sub9 = p9.execute(\"\"\"\n",
      "    MATCH GRAPH (i:Impresion)-(e:Edicion)\n",
      "    TRANSFER (i)-(e)\n",
      "    METHOD ATTRS\n",
      "    SET lugar=i.lugar\n",
      "\"\"\")"
     ],
     "language": "python",
     "metadata": {},
     "outputs": [],
     "prompt_number": 115
    },
    {
     "cell_type": "code",
     "collapsed": false,
     "input": [
      "p10 = px.Projection(sub9)\n",
      "sub10 = p10.execute(\"\"\"\n",
      "    MATCH GRAPH (o:Obra)-(e:Edicion)\n",
      "    TRANSFER (o)-(e)\n",
      "    METHOD ATTRS\n",
      "    SET genero=o.genero\n",
      "\"\"\")"
     ],
     "language": "python",
     "metadata": {},
     "outputs": [],
     "prompt_number": 116
    },
    {
     "cell_type": "code",
     "collapsed": false,
     "input": [
      "p11 = px.Projection(sub10)\n",
      "sub11 = p11.execute(\"\"\"\n",
      "    MATCH GRAPH (e:Edicion)-(o:Obra)\n",
      "    TRANSFER (e)-(o)\n",
      "    METHOD ATTRS\n",
      "    SET doc_type=e.type, ed_fecha=e.fecha, lugar=e.lugar\n",
      "\"\"\")"
     ],
     "language": "python",
     "metadata": {},
     "outputs": [],
     "prompt_number": 117
    },
    {
     "cell_type": "code",
     "collapsed": false,
     "input": [
      "p12 = px.Projection(sub11)\n",
      "sub12 = p12.execute(\"\"\"\n",
      "    MATCH GRAPH (o:Obra)-(p:Persona)\n",
      "    TRANSFER (o)-(p)\n",
      "    METHOD EDGES Edicion\n",
      "    SET doc_type=o.type, fecha=o.ed_fecha, lugar=o.lugar, author=\"true\", role=\"author\"\n",
      "\"\"\")"
     ],
     "language": "python",
     "metadata": {},
     "outputs": [],
     "prompt_number": 118
    },
    {
     "cell_type": "code",
     "collapsed": false,
     "input": [
      "p13 = px.Projection(sub12)\n",
      "sub13 = p13.execute(\"\"\"\n",
      "    MATCH GRAPH (e:Edicion)-(p:Persona)\n",
      "    TRANSFER (e)-(p)\n",
      "    METHOD ATTRS\n",
      "    SET genero=e.genero\n",
      "\"\"\")"
     ],
     "language": "python",
     "metadata": {},
     "outputs": [],
     "prompt_number": 119
    },
    {
     "cell_type": "code",
     "collapsed": false,
     "input": [
      "p14 = px.Projection(sub13)\n",
      "sub14 = p14.execute(\"\"\"\n",
      "    MATCH GRAPH (e:Edicion)-(p:Persona)\n",
      "    TRANSFER (e)-(p)\n",
      "    METHOD ATTRS\n",
      "    SET genero=e.genero\n",
      "\"\"\")"
     ],
     "language": "python",
     "metadata": {},
     "outputs": [],
     "prompt_number": 120
    },
    {
     "cell_type": "code",
     "collapsed": false,
     "input": [
      "p15 = px.Projection(sub14)\n",
      "bipartite = p15.execute(\"\"\"\n",
      "    MATCH (p:Persona)-(e:Edicion)\n",
      "\"\"\")"
     ],
     "language": "python",
     "metadata": {},
     "outputs": [],
     "prompt_number": 121
    },
    {
     "cell_type": "code",
     "collapsed": false,
     "input": [
      "nx.write_gexf(bipartite, \"projections/bipartite.gexf\")"
     ],
     "language": "python",
     "metadata": {},
     "outputs": [],
     "prompt_number": 122
    },
    {
     "cell_type": "code",
     "collapsed": false,
     "input": [
      "p16 = px.Projection(bipartite)\n",
      "projection = p16.execute(\"\"\"\n",
      "    MATCH (p1:Persona)-(e:Edicion)-(p2:Persona)\n",
      "    PROJECT (p1)-(p2)\n",
      "    METHOD NEWMAN Edicion\n",
      "    DELETE e\n",
      "\"\"\")"
     ],
     "language": "python",
     "metadata": {},
     "outputs": [],
     "prompt_number": 123
    },
    {
     "cell_type": "code",
     "collapsed": false,
     "input": [
      "proj = process_projection(projection)\n",
      "nx.write_gexf(proj, 'projections/onemode.gexf')"
     ],
     "language": "python",
     "metadata": {},
     "outputs": [],
     "prompt_number": 124
    }
   ],
   "metadata": {}
  }
 ]
}