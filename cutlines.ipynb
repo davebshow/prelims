{
 "cells": [
  {
   "cell_type": "code",
   "execution_count": 1,
   "metadata": {
    "collapsed": false
   },
   "outputs": [],
   "source": [
    "%matplotlib inline"
   ]
  },
  {
   "cell_type": "code",
   "execution_count": 2,
   "metadata": {
    "collapsed": false
   },
   "outputs": [],
   "source": [
    "import networkx as nx\n",
    "import pandas as pd\n",
    "import projx as px\n",
    "import matplotlib.pyplot as plt\n",
    "import seaborn as sns"
   ]
  },
  {
   "cell_type": "code",
   "execution_count": 3,
   "metadata": {
    "collapsed": false
   },
   "outputs": [],
   "source": [
    "plt.rcParams['figure.figsize'] = (12, 7)"
   ]
  },
  {
   "cell_type": "code",
   "execution_count": 4,
   "metadata": {
    "collapsed": false
   },
   "outputs": [],
   "source": [
    "g = nx.read_gexf(\"projections/onemode.gexf\")"
   ]
  },
  {
   "cell_type": "code",
   "execution_count": 5,
   "metadata": {
    "collapsed": false
   },
   "outputs": [
    {
     "name": "stdout",
     "output_type": "stream",
     "text": [
      "(318, 2212)\n"
     ]
    }
   ],
   "source": [
    "print(len(g), len(g.edges()))"
   ]
  },
  {
   "cell_type": "code",
   "execution_count": 6,
   "metadata": {
    "collapsed": false
   },
   "outputs": [],
   "source": [
    "g = list(nx.connected_component_subgraphs(g))[0]"
   ]
  },
  {
   "cell_type": "code",
   "execution_count": 7,
   "metadata": {
    "collapsed": false
   },
   "outputs": [
    {
     "name": "stdout",
     "output_type": "stream",
     "text": [
      "(305, 2174)\n"
     ]
    }
   ],
   "source": [
    "print(len(g), len(g.edges()))"
   ]
  },
  {
   "cell_type": "code",
   "execution_count": 8,
   "metadata": {
    "collapsed": false
   },
   "outputs": [
    {
     "data": {
      "text/plain": [
       "count    2174.000000\n",
       "mean        0.203542\n",
       "std         0.197535\n",
       "min         0.052632\n",
       "25%         0.111455\n",
       "50%         0.142857\n",
       "75%         0.200000\n",
       "max         2.602381\n",
       "dtype: float64"
      ]
     },
     "execution_count": 8,
     "metadata": {},
     "output_type": "execute_result"
    }
   ],
   "source": [
    "weight_sr = pd.Series([attrs[\"weight\"] for s, t, attrs in g.edges(data=True)])\n",
    "weight_sr.describe()"
   ]
  },
  {
   "cell_type": "code",
   "execution_count": 17,
   "metadata": {
    "collapsed": false,
    "scrolled": true
   },
   "outputs": [
    {
     "data": {
      "image/png": "[encoded data removed]",
      "text/plain": [
       "<matplotlib.figure.Figure at 0x7f5a2ff89810>"
      ]
     },
     "metadata": {},
     "output_type": "display_data"
    }
   ],
   "source": [
    "\n",
    "font = {'family' : 'normal',\n",
    "        'weight' : 'bold',\n",
    "        'size'   : 22}\n",
    "\n",
    "plt.rc('font', **font)\n",
    "plt.savefig(\"img/article/figure6.eps\", format='eps', dpi=1000)\n",
    "cutoffs, densities = px.proj_density(g, 0.0, 0.01, 100)\n",
    "plt.plot(cutoffs, densities)\n",
    "plt.ylabel('network density', size=18)\n",
    "plt.xlabel('deight', size=18)\n",
    "plt.savefig(\"img/article/figure6.eps\", format='eps', dpi=1000)"
   ]
  },
  {
   "cell_type": "code",
   "execution_count": 30,
   "metadata": {
    "collapsed": false
   },
   "outputs": [
    {
     "data": {
      "image/png": "[encoded data removed]",
      "text/plain": [
       "<matplotlib.figure.Figure at 0x7f44598b8b10>"
      ]
     },
     "metadata": {},
     "output_type": "display_data"
    }
   ],
   "source": [
    "cutoffs, densities = px.proj_density(g, 0.0, 0.01, 20)\n",
    "plt.plot(cutoffs, densities)\n",
    "plt.savefig(\"img/cutlines_detail.png\")"
   ]
  },
  {
   "cell_type": "code",
   "execution_count": 9,
   "metadata": {
    "collapsed": false
   },
   "outputs": [
    {
     "data": {
      "text/plain": [
       "0.090909090909100002"
      ]
     },
     "execution_count": 9,
     "metadata": {},
     "output_type": "execute_result"
    }
   ],
   "source": [
    "weight_sr.quantile(0.10)"
   ]
  },
  {
   "cell_type": "code",
   "execution_count": 15,
   "metadata": {
    "collapsed": false
   },
   "outputs": [
    {
     "name": "stdout",
     "output_type": "stream",
     "text": [
      "[288, 5, 8]\n",
      "0.0457075106465\n"
     ]
    }
   ],
   "source": [
    "fourteen_percent_cut = px.remove_edges(g.copy(), weight_sr.quantile(0.14))\n",
    "nx.write_gexf(fourteen_percent_cut, \"projections/fourteen_percent_cut.gexf\")\n",
    "subgraphs = list(nx.connected_component_subgraphs(fourteen_percent_cut))\n",
    "print([len(sub) for sub in subgraphs])\n",
    "print(nx.density(subgraphs[0]))"
   ]
  },
  {
   "cell_type": "code",
   "execution_count": 10,
   "metadata": {
    "collapsed": false
   },
   "outputs": [
    {
     "name": "stdout",
     "output_type": "stream",
     "text": [
      "[297, 5, 8]\n"
     ]
    }
   ],
   "source": [
    "ten_percent_cut = px.remove_edges(g.copy(), weight_sr.quantile(0.10))\n",
    "nx.write_gexf(ten_percent_cut, \"projections/ten_percent_cut.gexf\")\n",
    "subgraphs = list(nx.connected_component_subgraphs(ten_percent_cut))\n",
    "print([len(sub) for sub in subgraphs])"
   ]
  },
  {
   "cell_type": "code",
   "execution_count": 11,
   "metadata": {
    "collapsed": false
   },
   "outputs": [
    {
     "name": "stdout",
     "output_type": "stream",
     "text": [
      "[271, 5, 8]\n"
     ]
    }
   ],
   "source": [
    "twentyfive_percent_cut = px.remove_edges(g.copy(), weight_sr.quantile(0.25))\n",
    "nx.write_gexf(twentyfive_percent_cut, \"projections/twenty_percent_cut.gexf\")\n",
    "subgraphs = list(nx.connected_component_subgraphs(twentyfive_percent_cut))\n",
    "print([len(sub) for sub in subgraphs])"
   ]
  },
  {
   "cell_type": "code",
   "execution_count": 31,
   "metadata": {
    "collapsed": false
   },
   "outputs": [
    {
     "name": "stdout",
     "output_type": "stream",
     "text": [
      "[236]\n",
      "0.557414104882\n",
      "0.0444644789037\n"
     ]
    }
   ],
   "source": [
    "fifty_percent_cut = px.remove_edges(g.copy(), 0.14)\n",
    "nx.write_gexf(fifty_percent_cut, \"projections/fifty_percent_cut.gexf\")\n",
    "subgraphs = list(nx.connected_component_subgraphs(fifty_percent_cut))\n",
    "print([len(sub) for sub in subgraphs])\n",
    "print(len(subgraphs[0].edges())) / float(2212)\n",
    "print(nx.density(subgraphs[0]))"
   ]
  },
  {
   "cell_type": "code",
   "execution_count": 13,
   "metadata": {
    "collapsed": false
   },
   "outputs": [
    {
     "name": "stdout",
     "output_type": "stream",
     "text": [
      "[198, 5, 2]\n"
     ]
    }
   ],
   "source": [
    "sixty_percent_cut = px.remove_edges(g.copy(), weight_sr.quantile(0.6))\n",
    "subgraphs = list(nx.connected_component_subgraphs(sixty_percent_cut))\n",
    "print([len(sub) for sub in subgraphs])"
   ]
  },
  {
   "cell_type": "code",
   "execution_count": 14,
   "metadata": {
    "collapsed": false
   },
   "outputs": [
    {
     "name": "stdout",
     "output_type": "stream",
     "text": [
      "[167, 5, 2]\n"
     ]
    }
   ],
   "source": [
    "seventy_percent_cut = px.remove_edges(g.copy(), weight_sr.quantile(0.7))\n",
    "subgraphs = list(nx.connected_component_subgraphs(seventy_percent_cut))\n",
    "print([len(sub) for sub in subgraphs])"
   ]
  },
  {
   "cell_type": "code",
   "execution_count": 15,
   "metadata": {
    "collapsed": false
   },
   "outputs": [
    {
     "name": "stdout",
     "output_type": "stream",
     "text": [
      "[167, 5, 2]\n"
     ]
    }
   ],
   "source": [
    "seventyfive_percent_cut = px.remove_edges(g.copy(), 0.2)\n",
    "subgraphs = list(nx.connected_component_subgraphs(seventyfive_percent_cut))\n",
    "print([len(sub) for sub in subgraphs])"
   ]
  },
  {
   "cell_type": "code",
   "execution_count": 16,
   "metadata": {
    "collapsed": false
   },
   "outputs": [
    {
     "name": "stdout",
     "output_type": "stream",
     "text": [
      "[139, 5, 2]\n"
     ]
    }
   ],
   "source": [
    "eighty_percent_cut = px.remove_edges(g.copy(), weight_sr.quantile(0.8))\n",
    "subgraphs = list(nx.connected_component_subgraphs(eighty_percent_cut))\n",
    "print([len(sub) for sub in subgraphs])"
   ]
  },
  {
   "cell_type": "code",
   "execution_count": 17,
   "metadata": {
    "collapsed": false
   },
   "outputs": [
    {
     "name": "stdout",
     "output_type": "stream",
     "text": [
      "[76, 4, 5, 2, 2]\n"
     ]
    }
   ],
   "source": [
    "ninety_percent_cut = px.remove_edges(g.copy(), weight_sr.quantile(0.9))\n",
    "nx.write_gexf(ninety_percent_cut, \"projections/ninety_percent_cut.gexf\")\n",
    "subgraphs = list(nx.connected_component_subgraphs(ninety_percent_cut))\n",
    "print([len(sub) for sub in subgraphs])"
   ]
  },
  {
   "cell_type": "code",
   "execution_count": 18,
   "metadata": {
    "collapsed": false
   },
   "outputs": [
    {
     "name": "stdout",
     "output_type": "stream",
     "text": [
      "[74, 4, 2, 2, 2]\n"
     ]
    }
   ],
   "source": [
    "ninetyone_percent_cut = px.remove_edges(g.copy(), weight_sr.quantile(0.91))\n",
    "subgraphs = list(nx.connected_component_subgraphs(ninetyone_percent_cut))\n",
    "print([len(sub) for sub in subgraphs])"
   ]
  },
  {
   "cell_type": "code",
   "execution_count": 19,
   "metadata": {
    "collapsed": false
   },
   "outputs": [
    {
     "name": "stdout",
     "output_type": "stream",
     "text": [
      "[57, 4, 2, 12, 2]\n"
     ]
    }
   ],
   "source": [
    "ninetytwo_percent_cut = px.remove_edges(g.copy(), weight_sr.quantile(0.92))\n",
    "subgraphs = list(nx.connected_component_subgraphs(ninetytwo_percent_cut))\n",
    "print([len(sub) for sub in subgraphs])"
   ]
  },
  {
   "cell_type": "code",
   "execution_count": 20,
   "metadata": {
    "collapsed": false
   },
   "outputs": [
    {
     "name": "stdout",
     "output_type": "stream",
     "text": [
      "[49, 4, 2, 12, 2]\n"
     ]
    }
   ],
   "source": [
    "ninetythree_percent_cut = px.remove_edges(g.copy(), weight_sr.quantile(0.93))\n",
    "subgraphs = list(nx.connected_component_subgraphs(ninetythree_percent_cut))\n",
    "print([len(sub) for sub in subgraphs])"
   ]
  },
  {
   "cell_type": "code",
   "execution_count": 21,
   "metadata": {
    "collapsed": false
   },
   "outputs": [
    {
     "name": "stdout",
     "output_type": "stream",
     "text": [
      "[47, 4, 5, 4, 2]\n"
     ]
    }
   ],
   "source": [
    "ninetyfour_percent_cut = px.remove_edges(g.copy(), weight_sr.quantile(0.94))\n",
    "subgraphs = list(nx.connected_component_subgraphs(ninetyfour_percent_cut))\n",
    "print([len(sub) for sub in subgraphs])"
   ]
  },
  {
   "cell_type": "code",
   "execution_count": 22,
   "metadata": {
    "collapsed": false
   },
   "outputs": [
    {
     "name": "stdout",
     "output_type": "stream",
     "text": [
      "[44, 4, 5, 4, 2]\n"
     ]
    }
   ],
   "source": [
    "ninetyfive_percent_cut = px.remove_edges(g.copy(), weight_sr.quantile(0.95))\n",
    "nx.write_gexf(ninetyfive_percent_cut, \"projections/ninetyfive_percent_cut.gexf\")\n",
    "subgraphs = list(nx.connected_component_subgraphs(ninetyfive_percent_cut))\n",
    "print([len(sub) for sub in subgraphs])"
   ]
  },
  {
   "cell_type": "code",
   "execution_count": 23,
   "metadata": {
    "collapsed": false
   },
   "outputs": [
    {
     "name": "stdout",
     "output_type": "stream",
     "text": [
      "[37, 4, 5, 4, 2]\n"
     ]
    }
   ],
   "source": [
    "ninetysix_percent_cut = px.remove_edges(g.copy(), weight_sr.quantile(0.96))\n",
    "subgraphs = list(nx.connected_component_subgraphs(ninetysix_percent_cut))\n",
    "print([len(sub) for sub in subgraphs])"
   ]
  },
  {
   "cell_type": "code",
   "execution_count": 24,
   "metadata": {
    "collapsed": false
   },
   "outputs": [
    {
     "name": "stdout",
     "output_type": "stream",
     "text": [
      "[32, 5, 3]\n"
     ]
    }
   ],
   "source": [
    "ninetyseven_percent_cut = px.remove_edges(g.copy(), weight_sr.quantile(0.97))\n",
    "subgraphs = list(nx.connected_component_subgraphs(ninetyseven_percent_cut))\n",
    "print([len(sub) for sub in subgraphs])"
   ]
  },
  {
   "cell_type": "code",
   "execution_count": 25,
   "metadata": {
    "collapsed": false
   },
   "outputs": [
    {
     "name": "stdout",
     "output_type": "stream",
     "text": [
      "[25, 4, 3, 2]\n"
     ]
    }
   ],
   "source": [
    "ninetyeight_percent_cut = px.remove_edges(g.copy(), weight_sr.quantile(0.98))\n",
    "subgraphs = list(nx.connected_component_subgraphs(ninetyeight_percent_cut))\n",
    "print([len(sub) for sub in subgraphs])"
   ]
  },
  {
   "cell_type": "code",
   "execution_count": 26,
   "metadata": {
    "collapsed": false
   },
   "outputs": [
    {
     "name": "stdout",
     "output_type": "stream",
     "text": [
      "[18, 3, 2, 2]\n"
     ]
    }
   ],
   "source": [
    "ninetynine_percent_cut = px.remove_edges(g.copy(), weight_sr.quantile(0.99))\n",
    "nx.write_gexf(ninetynine_percent_cut, \"projections/ninetynine_percent_cut.gexf\")\n",
    "subgraphs = list(nx.connected_component_subgraphs(ninetynine_percent_cut))\n",
    "print([len(sub) for sub in subgraphs])"
   ]
  }
 ],
 "metadata": {
  "kernelspec": {
   "display_name": "Python 2",
   "language": "python",
   "name": "python2"
  },
  "language_info": {
   "codemirror_mode": {
    "name": "ipython",
    "version": 2
   },
   "file_extension": ".py",
   "mimetype": "text/x-python",
   "name": "python",
   "nbconvert_exporter": "python",
   "pygments_lexer": "ipython2",
   "version": "2.7.6"
  }
 },
 "nbformat": 4,
 "nbformat_minor": 0
}
