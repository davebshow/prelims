{
 "cells": [
  {
   "cell_type": "code",
   "execution_count": 2,
   "metadata": {
    "collapsed": true
   },
   "outputs": [],
   "source": [
    "%matplotlib inline\n",
    "import networkx as nx\n",
    "import pandas as pd\n",
    "import matplotlib.pyplot as plt\n",
    "import seaborn as sns\n",
    "plt.rcParams['figure.figsize'] = (12, 7)\n",
    "# key = {\"Milan\": 12591813, \"Bruselas\": 55965974, \"Amberes\": 7153308, \"Cordoba\": 12602098,\n",
    "#        'Lerida': 12602126, 'Madrid': 12578024, 'Valencia': 12602139 , 'Sevilla': 12602104 , 'Toledo': 12602114,\n",
    "#        'Lisboa': 2346573, 'Tarragona': 12602127 , 'Zaragoza':12602107 , 'Mexico': 0 , 'Alcala':12578024,\n",
    "#        'Pamplona': 12578026 , 'Coimbra': 12578026, 'Barcelona': 12578026, 'Valladolid': 12578026}"
   ]
  },
  {
   "cell_type": "code",
   "execution_count": 4,
   "metadata": {
    "collapsed": false
   },
   "outputs": [],
   "source": [
    "mod_df = pd.read_csv(\"data/communities/modularity.csv\", encoding=\"utf-8\")\n",
    "# ORDER - 0 3 6 5 7 1"
   ]
  },
  {
   "cell_type": "code",
   "execution_count": 7,
   "metadata": {
    "collapsed": false
   },
   "outputs": [],
   "source": [
    "mod = mod_df.groupby(\"Modularity Class\").size()"
   ]
  },
  {
   "cell_type": "code",
   "execution_count": 8,
   "metadata": {
    "collapsed": false
   },
   "outputs": [
    {
     "data": {
      "text/plain": [
       "<matplotlib.axes._subplots.AxesSubplot at 0x7f8342a196a0>"
      ]
     },
     "execution_count": 8,
     "metadata": {},
     "output_type": "execute_result"
    },
    {
     "data": {
      "image/png": "[encoded data removed]",
      "text/plain": [
       "<matplotlib.figure.Figure at 0x7f83411a3fd0>"
      ]
     },
     "metadata": {},
     "output_type": "display_data"
    }
   ],
   "source": [
    "mod.plot(kind=\"bar\")"
   ]
  },
  {
   "cell_type": "code",
   "execution_count": 9,
   "metadata": {
    "collapsed": false
   },
   "outputs": [
    {
     "data": {
      "text/plain": [
       "<matplotlib.axes._subplots.AxesSubplot at 0x7f83410e2dd8>"
      ]
     },
     "execution_count": 9,
     "metadata": {},
     "output_type": "execute_result"
    },
    {
     "data": {
      "image/png": "[encoded data removed]",
      "text/plain": [
       "<matplotlib.figure.Figure at 0x7f834115c9e8>"
      ]
     },
     "metadata": {},
     "output_type": "display_data"
    }
   ],
   "source": [
    "mod_roles = mod_df.groupby([\"Modularity Class\", \"role\"]).size()\n",
    "grouped = mod_roles.groupby(level=0)\n",
    "divided = mod_roles.divide(grouped.sum())\n",
    "divided = divided.unstack(level=0).fillna(0)\n",
    "trans = divided.transpose()\n",
    "trans.plot(kind=\"bar\", stacked=True)"
   ]
  },
  {
   "cell_type": "code",
   "execution_count": 10,
   "metadata": {
    "collapsed": false
   },
   "outputs": [],
   "source": [
    "import json\n",
    "with open(\"maps/western_europe_data/provinces.json\", \"r\") as f:\n",
    "    prov = json.load(f)"
   ]
  },
  {
   "cell_type": "code",
   "execution_count": 11,
   "metadata": {
    "collapsed": false
   },
   "outputs": [],
   "source": [
    "# with open(\"maps/western_europe_data/provinces_with_id.json\", \"w\") as f:\n",
    "#     json.dump(prov, f)"
   ]
  },
  {
   "cell_type": "code",
   "execution_count": 12,
   "metadata": {
    "collapsed": false
   },
   "outputs": [
    {
     "ename": "NameError",
     "evalue": "name 'features' is not defined",
     "output_type": "error",
     "traceback": [
      "\u001b[1;31m---------------------------------------------------------------------------\u001b[0m",
      "\u001b[1;31mNameError\u001b[0m                                 Traceback (most recent call last)",
      "\u001b[1;32m<ipython-input-12-7c779708bb27>\u001b[0m in \u001b[0;36m<module>\u001b[1;34m()\u001b[0m\n\u001b[0;32m      1\u001b[0m \u001b[0mids\u001b[0m \u001b[1;33m=\u001b[0m \u001b[1;33m{\u001b[0m\u001b[1;33m}\u001b[0m\u001b[1;33m\u001b[0m\u001b[0m\n\u001b[1;32m----> 2\u001b[1;33m \u001b[1;32mfor\u001b[0m \u001b[0mx\u001b[0m \u001b[1;32min\u001b[0m \u001b[0mfeatures\u001b[0m\u001b[1;33m:\u001b[0m\u001b[1;33m\u001b[0m\u001b[0m\n\u001b[0m\u001b[0;32m      3\u001b[0m     \u001b[0mprops\u001b[0m \u001b[1;33m=\u001b[0m \u001b[0mx\u001b[0m\u001b[1;33m[\u001b[0m\u001b[1;34m\"properties\"\u001b[0m\u001b[1;33m]\u001b[0m\u001b[1;33m\u001b[0m\u001b[0m\n\u001b[0;32m      4\u001b[0m     \u001b[0mids\u001b[0m\u001b[1;33m[\u001b[0m\u001b[0mprops\u001b[0m\u001b[1;33m[\u001b[0m\u001b[1;34m\"woe_id\"\u001b[0m\u001b[1;33m]\u001b[0m\u001b[1;33m]\u001b[0m \u001b[1;33m=\u001b[0m \u001b[0mprops\u001b[0m\u001b[1;33m[\u001b[0m\u001b[1;34m\"gn_name\"\u001b[0m\u001b[1;33m]\u001b[0m\u001b[1;33m\u001b[0m\u001b[0m\n",
      "\u001b[1;31mNameError\u001b[0m: name 'features' is not defined"
     ]
    }
   ],
   "source": [
    "ids = {}\n",
    "for x in features:\n",
    "    props = x[\"properties\"]\n",
    "    ids[props[\"woe_id\"]] = props[\"gn_name\"]"
   ]
  },
  {
   "cell_type": "code",
   "execution_count": 13,
   "metadata": {
    "collapsed": false
   },
   "outputs": [
    {
     "data": {
      "text/plain": [
       "{}"
      ]
     },
     "execution_count": 13,
     "metadata": {},
     "output_type": "execute_result"
    }
   ],
   "source": [
    "ids"
   ]
  },
  {
   "cell_type": "code",
   "execution_count": 14,
   "metadata": {
    "collapsed": false
   },
   "outputs": [],
   "source": [
    "map_key = {\"Milan\": 12591813, \"Bruselas\": 22525998, \"Amberes\": 7153308, \"Cordoba\": 12602098,\n",
    "       'Lerida': 12602126, 'Madrid': 12578024, 'Valencia': 12602139 , 'Sevilla': 12602104 , 'Toledo': 12602114,\n",
    "       'Lisboa': 2346573, 'Tarragona': 12602127 , 'Zaragoza':12602107 , 'Mexico': 0 , 'Alcala':12578024,\n",
    "       'Pamplona': 12578026 , 'Coimbra': 2346567, 'Barcelona': 12602124, 'Valladolid': 12602122,\n",
    "       'Malaga': 12602102 , 'Burgos': 12602116, 'Roma': 12591802, 'Lyon': 12597185, 'Venetia': 12591860,\n",
    "        'Medina': 12602122 , 'Salamanca': 12602119 , 'Paris': 12597155}"
   ]
  },
  {
   "cell_type": "code",
   "execution_count": 15,
   "metadata": {
    "collapsed": true
   },
   "outputs": [],
   "source": [
    "mod_places = mod_df.groupby([\"Modularity Class\", \"top_place\"]).size()"
   ]
  },
  {
   "cell_type": "code",
   "execution_count": 21,
   "metadata": {
    "collapsed": false
   },
   "outputs": [],
   "source": [
    "import csv\n",
    "def write_csv(d, map_key, name):\n",
    "    count = {}\n",
    "    for k, v in d.items():\n",
    "        id = map_key.get(k, \"\")\n",
    "        if id:\n",
    "            count.setdefault(id, 0)\n",
    "            count[id] += v\n",
    "    with open(name, \"w\") as f:\n",
    "        writer = csv.writer(f)\n",
    "        writer.writerow([\"id\", \"count\"])\n",
    "        for k, v in count.items():\n",
    "            writer.writerow([k, v])"
   ]
  },
  {
   "cell_type": "code",
   "execution_count": 40,
   "metadata": {
    "collapsed": false
   },
   "outputs": [
    {
     "data": {
      "text/plain": [
       "{'Alcala': 1,\n",
       " 'Barcelona': 6,\n",
       " 'Lerida': 1,\n",
       " 'Madrid': 26,\n",
       " 'Sevilla': 2,\n",
       " 'Toledo': 1,\n",
       " 'Valladolid': 1}"
      ]
     },
     "execution_count": 40,
     "metadata": {},
     "output_type": "execute_result"
    }
   ],
   "source": [
    "mod_places[3].to_dict()"
   ]
  },
  {
   "cell_type": "code",
   "execution_count": 24,
   "metadata": {
    "collapsed": false
   },
   "outputs": [],
   "source": [
    "write_csv(mod_places[0].to_dict(), map_key, 'maps/western_europe_data/tsv/modclass1.csv')"
   ]
  },
  {
   "cell_type": "code",
   "execution_count": 25,
   "metadata": {
    "collapsed": true
   },
   "outputs": [],
   "source": [
    "write_csv(mod_places[3].to_dict(), map_key, 'maps/western_europe_data/tsv/modclass2.csv')"
   ]
  },
  {
   "cell_type": "code",
   "execution_count": 26,
   "metadata": {
    "collapsed": true
   },
   "outputs": [],
   "source": [
    "write_csv(mod_places[6].to_dict(), map_key, 'maps/western_europe_data/tsv/modclass3.csv')"
   ]
  },
  {
   "cell_type": "code",
   "execution_count": 27,
   "metadata": {
    "collapsed": true
   },
   "outputs": [],
   "source": [
    "write_csv(mod_places[5].to_dict(), map_key, 'maps/western_europe_data/tsv/modclass4.csv')"
   ]
  },
  {
   "cell_type": "code",
   "execution_count": 28,
   "metadata": {
    "collapsed": true
   },
   "outputs": [],
   "source": [
    "write_csv(mod_places[7].to_dict(), map_key, 'maps/western_europe_data/tsv/modclass5.csv')"
   ]
  },
  {
   "cell_type": "code",
   "execution_count": 29,
   "metadata": {
    "collapsed": true
   },
   "outputs": [],
   "source": [
    "write_csv(mod_places[1].to_dict(), map_key, 'maps/western_europe_data/tsv/modclass6.csv')"
   ]
  },
  {
   "cell_type": "code",
   "execution_count": 41,
   "metadata": {
    "collapsed": false
   },
   "outputs": [
    {
     "data": {
      "text/plain": [
       "Modularity Class  top_place \n",
       "0                 Alcala         1\n",
       "                  Amberes        2\n",
       "                  Anvers         2\n",
       "                  Barcelona      3\n",
       "                  Madrid        13\n",
       "                  Sevilla        1\n",
       "                  Toledo         1\n",
       "                  Valencia       4\n",
       "                  Valladolid     6\n",
       "1                 Barcelona      6\n",
       "                  Bruselas       4\n",
       "                  Madrid         1\n",
       "                  Pamplona       5\n",
       "                  Valencia       5\n",
       "2                 Bruselas       4\n",
       "3                 Alcala         1\n",
       "                  Barcelona      6\n",
       "                  Lerida         1\n",
       "                  Madrid        26\n",
       "                  Sevilla        2\n",
       "                  Toledo         1\n",
       "                  Valladolid     1\n",
       "4                 Mexico         4\n",
       "5                 Cordoba        3\n",
       "                  Lisboa        21\n",
       "                  Madrid         1\n",
       "6                 Barcelona      5\n",
       "                  Coimbra        1\n",
       "                  Lisboa         2\n",
       "                  Madrid         5\n",
       "                  Milan          3\n",
       "                  Tarragona      2\n",
       "                  Zaragoza      10\n",
       "7                 Barcelona      5\n",
       "                  Bruselas       2\n",
       "                  Lerida         4\n",
       "                  Lisboa         1\n",
       "                  Madrid         2\n",
       "                  Valencia       2\n",
       "                  Valladolid     4\n",
       "                  Zaragoza       6\n",
       "dtype: int64"
      ]
     },
     "execution_count": 41,
     "metadata": {},
     "output_type": "execute_result"
    }
   ],
   "source": [
    "mod_places"
   ]
  },
  {
   "cell_type": "code",
   "execution_count": null,
   "metadata": {
    "collapsed": true
   },
   "outputs": [],
   "source": []
  }
 ],
 "metadata": {
  "kernelspec": {
   "display_name": "Python 3",
   "language": "python",
   "name": "python3"
  },
  "language_info": {
   "codemirror_mode": {
    "name": "ipython",
    "version": 3
   },
   "file_extension": ".py",
   "mimetype": "text/x-python",
   "name": "python",
   "nbconvert_exporter": "python",
   "pygments_lexer": "ipython3",
   "version": "3.4.0"
  }
 },
 "nbformat": 4,
 "nbformat_minor": 0
}
