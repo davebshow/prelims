{
 "cells": [
  {
   "cell_type": "code",
   "execution_count": 1,
   "metadata": {
    "collapsed": false
   },
   "outputs": [],
   "source": [
    "%matplotlib inline"
   ]
  },
  {
   "cell_type": "code",
   "execution_count": 2,
   "metadata": {
    "collapsed": false
   },
   "outputs": [],
   "source": [
    "import networkx as nx\n",
    "import numpy as np\n",
    "import pandas as pd\n",
    "# import projx as px\n",
    "import matplotlib.pyplot as plt\n",
    "import seaborn as sns"
   ]
  },
  {
   "cell_type": "code",
   "execution_count": 3,
   "metadata": {
    "collapsed": false
   },
   "outputs": [],
   "source": [
    "plt.rcParams['figure.figsize'] = (12, 7)"
   ]
  },
  {
   "cell_type": "code",
   "execution_count": 4,
   "metadata": {
    "collapsed": false
   },
   "outputs": [],
   "source": [
    "def prob_dist(itrbl):\n",
    "    count = {}\n",
    "    for i in itrbl:\n",
    "        count.setdefault(i, 0)\n",
    "        count[i] += 1\n",
    "    sr = pd.Series(count)\n",
    "    prob = sr.apply(lambda x: float(x) / len(itrbl))\n",
    "    return prob\n",
    "\n",
    "def basic_graph_stats(g):\n",
    "    stats = {\n",
    "        \"num_nodes\": len(g),\n",
    "        \"num_edges\": len(g.edges()),\n",
    "        \"density\": nx.density(g),\n",
    "        \"diameter\": nx.diameter(g),\n",
    "        \"avg_short_path\": nx.average_shortest_path_length(g),\n",
    "        \"avg_clust\": nx.average_clustering(g)\n",
    "    }\n",
    "    return pd.Series(stats)    "
   ]
  },
  {
   "cell_type": "code",
   "execution_count": 5,
   "metadata": {
    "collapsed": false
   },
   "outputs": [],
   "source": [
    "graph = nx.read_gexf(\"projections/onemode.gexf\")"
   ]
  },
  {
   "cell_type": "code",
   "execution_count": 6,
   "metadata": {
    "collapsed": false
   },
   "outputs": [
    {
     "name": "stdout",
     "output_type": "stream",
     "text": [
      "[305, 5, 8]\n"
     ]
    }
   ],
   "source": [
    "subgraphs = list(nx.connected_component_subgraphs(graph))\n",
    "print([len(sub) for sub in subgraphs])"
   ]
  },
  {
   "cell_type": "code",
   "execution_count": 7,
   "metadata": {
    "collapsed": false
   },
   "outputs": [],
   "source": [
    "g = subgraphs[0]\n",
    "g1 = subgraphs[1]\n",
    "g2 = subgraphs[2]"
   ]
  },
  {
   "cell_type": "markdown",
   "metadata": {},
   "source": [
    "for js graphviz"
   ]
  },
  {
   "cell_type": "code",
   "execution_count": 8,
   "metadata": {
    "collapsed": true
   },
   "outputs": [],
   "source": [
    "import json\n",
    "from networkx.readwrite import json_graph"
   ]
  },
  {
   "cell_type": "code",
   "execution_count": 9,
   "metadata": {
    "collapsed": true
   },
   "outputs": [],
   "source": [
    "peru = json_graph.node_link_data(g1)\n",
    "china = json_graph.node_link_data(g2)"
   ]
  },
  {
   "cell_type": "code",
   "execution_count": 10,
   "metadata": {
    "collapsed": true
   },
   "outputs": [],
   "source": [
    "with open(\"js_viz/graphs/peru.json\", \"w\") as f:\n",
    "    json.dump(peru, f)"
   ]
  },
  {
   "cell_type": "code",
   "execution_count": 11,
   "metadata": {
    "collapsed": true
   },
   "outputs": [],
   "source": [
    "with open(\"js_viz/graphs/china.json\", \"w\") as f:\n",
    "    json.dump(china, f)"
   ]
  },
  {
   "cell_type": "code",
   "execution_count": 12,
   "metadata": {
    "collapsed": false
   },
   "outputs": [],
   "source": [
    "nx.write_gexf(g, \"projections/subgraph_onemode_gc.gexf\")\n",
    "nx.write_gexf(g1, \"projections/subgraph_onemode_sub1.gexf\")\n",
    "nx.write_gexf(g2, \"projections/subgraph_onemode_sub2.gexf\")"
   ]
  },
  {
   "cell_type": "code",
   "execution_count": 13,
   "metadata": {
    "collapsed": false
   },
   "outputs": [
    {
     "name": "stdout",
     "output_type": "stream",
     "text": [
      "avg_clust            0.798456\n",
      "avg_short_path       2.635656\n",
      "density              0.046894\n",
      "diameter             6.000000\n",
      "num_edges         2174.000000\n",
      "num_nodes          305.000000\n",
      "dtype: float64\n"
     ]
    }
   ],
   "source": [
    "print(basic_graph_stats(g))"
   ]
  },
  {
   "cell_type": "code",
   "execution_count": 14,
   "metadata": {
    "collapsed": false
   },
   "outputs": [],
   "source": [
    "roles = [a.get(\"role\", \"\") for (n, a) in g.nodes(data=True)]  # Hmm.\n",
    "places = [a[\"top_place\"] for (n, a) in g.nodes(data=True)]\n",
    "genres = [a[\"top_genre\"] for (n, a) in g.nodes(data=True)]\n",
    "sr = pd.Series({\"role\": prob_dist(roles), \"place\": prob_dist(places), \"genre\": prob_dist(genres)})"
   ]
  },
  {
   "cell_type": "code",
   "execution_count": 15,
   "metadata": {
    "collapsed": false
   },
   "outputs": [
    {
     "data": {
      "image/png": "[encoded data removed]",
      "text/plain": [
       "<matplotlib.figure.Figure at 0x7f22a7170f10>"
      ]
     },
     "metadata": {},
     "output_type": "display_data"
    }
   ],
   "source": [
    "prob_dist(roles).plot(kind=\"bar\")\n",
    "plt.savefig(\"img/roles.png\")"
   ]
  },
  {
   "cell_type": "code",
   "execution_count": 16,
   "metadata": {
    "collapsed": false
   },
   "outputs": [
    {
     "data": {
      "image/png": "[encoded data removed]",
      "text/plain": [
       "<matplotlib.figure.Figure at 0x7f22a7170e50>"
      ]
     },
     "metadata": {},
     "output_type": "display_data"
    }
   ],
   "source": [
    "prob_dist(places).plot(kind=\"bar\")\n",
    "plt.savefig(\"img/places.png\")"
   ]
  },
  {
   "cell_type": "code",
   "execution_count": 17,
   "metadata": {
    "collapsed": false
   },
   "outputs": [
    {
     "data": {
      "image/png": "[encoded data removed]",
      "text/plain": [
       "<matplotlib.figure.Figure at 0x7f22a7116450>"
      ]
     },
     "metadata": {},
     "output_type": "display_data"
    }
   ],
   "source": [
    "prob_dist(genres).plot(kind=\"bar\")\n",
    "plt.savefig(\"img/genres.png\")"
   ]
  },
  {
   "cell_type": "code",
   "execution_count": 18,
   "metadata": {
    "collapsed": false
   },
   "outputs": [
    {
     "ename": "NameError",
     "evalue": "name 'px' is not defined",
     "output_type": "error",
     "traceback": [
      "\u001b[1;31m---------------------------------------------------------------------------\u001b[0m",
      "\u001b[1;31mNameError\u001b[0m                                 Traceback (most recent call last)",
      "\u001b[1;32m<ipython-input-18-7f6160112ac7>\u001b[0m in \u001b[0;36m<module>\u001b[1;34m()\u001b[0m\n\u001b[1;32m----> 1\u001b[1;33m \u001b[0mpx\u001b[0m\u001b[1;33m.\u001b[0m\u001b[0mdraw_simple_graph\u001b[0m\u001b[1;33m(\u001b[0m\u001b[0mg1\u001b[0m\u001b[1;33m)\u001b[0m\u001b[1;33m\u001b[0m\u001b[0m\n\u001b[0m\u001b[0;32m      2\u001b[0m \u001b[1;31m#plt.savefig(\"img/china_component.png\")\u001b[0m\u001b[1;33m\u001b[0m\u001b[1;33m\u001b[0m\u001b[0m\n",
      "\u001b[1;31mNameError\u001b[0m: name 'px' is not defined"
     ]
    }
   ],
   "source": [
    "px.draw_simple_graph(g1)\n",
    "#plt.savefig(\"img/china_component.png\")"
   ]
  },
  {
   "cell_type": "code",
   "execution_count": null,
   "metadata": {
    "collapsed": false
   },
   "outputs": [],
   "source": [
    "px.draw_simple_graph(g2)\n",
    "#plt.savefig(\"img/peru_component.png\")"
   ]
  },
  {
   "cell_type": "code",
   "execution_count": null,
   "metadata": {
    "collapsed": false
   },
   "outputs": [],
   "source": [
    "print(len(g), len(g.edges()), nx.density(g))"
   ]
  },
  {
   "cell_type": "markdown",
   "metadata": {},
   "source": [
    "### Centrality"
   ]
  },
  {
   "cell_type": "code",
   "execution_count": null,
   "metadata": {
    "collapsed": false
   },
   "outputs": [],
   "source": [
    "bc = nx.betweenness_centrality(g, weight=\"weight\")\n",
    "ec = nx.eigenvector_centrality(g, weight=\"weight\", max_iter=500)\n",
    "cc = nx.closeness_centrality(g)\n",
    "deg = nx.degree(g)\n",
    "pr = nx.pagerank(g, max_iter=500, weight=\"weight\")"
   ]
  },
  {
   "cell_type": "code",
   "execution_count": null,
   "metadata": {
    "collapsed": false
   },
   "outputs": [],
   "source": [
    "cent_10_df = pd.DataFrame({\n",
    "    \"bc\": [(k, g.node[k][\"label\"], bc[k]) for k in sorted(bc, key=bc.get, reverse=True)[0:10]],\n",
    "    \"ec\": [(k, g.node[k][\"label\"], ec[k]) for k in sorted(ec, key=ec.get, reverse=True)[0:10]],\n",
    "    \"cc\": [(k, g.node[k][\"label\"], cc[k]) for k in sorted(cc, key=cc.get, reverse=True)[0:10]],\n",
    "    \"dc\": [(k, g.node[k][\"label\"], deg[k]) for k in sorted(deg, key=deg.get, reverse=True)[0:10]],\n",
    "    #\"pr\": [(k, g.node[k][\"label\"], pr[k]) for k in sorted(pr, key=pr.get, reverse=True)[0:10]]\n",
    "})"
   ]
  },
  {
   "cell_type": "code",
   "execution_count": null,
   "metadata": {
    "collapsed": false
   },
   "outputs": [],
   "source": [
    "print(cent_10_df)"
   ]
  },
  {
   "cell_type": "code",
   "execution_count": null,
   "metadata": {
    "collapsed": false
   },
   "outputs": [],
   "source": [
    "pd.Series(deg.values()).hist()"
   ]
  },
  {
   "cell_type": "code",
   "execution_count": null,
   "metadata": {
    "collapsed": false
   },
   "outputs": [],
   "source": [
    "deg_prob = prob_dist(deg.values())\n",
    "plt.scatter(deg_prob.index, deg_prob)\n",
    "plt.savefig(\"img/deg_dist.png\")"
   ]
  },
  {
   "cell_type": "markdown",
   "metadata": {},
   "source": [
    "### Degree by role"
   ]
  },
  {
   "cell_type": "code",
   "execution_count": null,
   "metadata": {
    "collapsed": false
   },
   "outputs": [],
   "source": [
    "authors = pd.Series(nx.degree(g, nbunch=[n for (n, a) in g.nodes(data=True) if a.get(\"role\") == \"author\"]).values())\n",
    "patrons = pd.Series(nx.degree(g, nbunch=[n for (n, a) in g.nodes(data=True) if a.get(\"role\") == \"patron\"]).values())\n",
    "printers = pd.Series(nx.degree(g, nbunch=[n for (n, a) in g.nodes(data=True) if a.get(\"role\") == \"printer/editor\"]).values())\n",
    "signatories = pd.Series(nx.degree(g, nbunch=[n for (n, a) in g.nodes(data=True) if a.get(\"role\") == \"signatory\"]).values())"
   ]
  },
  {
   "cell_type": "code",
   "execution_count": null,
   "metadata": {
    "collapsed": false
   },
   "outputs": [],
   "source": [
    "# plt.plot(authors.index, authors, color=\"r\")\n",
    "# plt.plot(patrons.index, patrons, color=\"b\")\n",
    "# plt.plot(printers.index, printers, color=\"y\")\n",
    "# plt.plot(signatories.index, signatories, color=\"g\")\n",
    "df = pd.concat([authors, patrons, printers, signatories], axis=1, keys=[\"author\", \"patron\", \"printer\", \"signatory\"])\n",
    "desc = df.describe()"
   ]
  },
  {
   "cell_type": "code",
   "execution_count": null,
   "metadata": {
    "collapsed": true
   },
   "outputs": [],
   "source": [
    "desc.to_clipboard()"
   ]
  },
  {
   "cell_type": "code",
   "execution_count": null,
   "metadata": {
    "collapsed": false
   },
   "outputs": [],
   "source": [
    "a = [auth for auth in df[\"author\"] if not np.isnan(auth)]\n",
    "p = [auth for auth in df[\"patron\"] if not np.isnan(auth)]\n",
    "pr = [auth for auth in df[\"printer\"] if not np.isnan(auth)]\n",
    "s= [auth for auth in df[\"signatory\"] if not np.isnan(auth)]\n",
    "sns.boxplot([a,p,pr,s], names=[\"author\", \"patron\", \"printer\", \"signatory\"])"
   ]
  },
  {
   "cell_type": "code",
   "execution_count": null,
   "metadata": {
    "collapsed": false
   },
   "outputs": [],
   "source": [
    "authors = pd.Series(nx.betweenness_centrality(g, nbunch=[n for (n, a) in g.nodes(data=True) if a.get(\"role\") == \"author\"]).values())\n",
    "patrons = pd.Series(nx.betweenness_centrality(g, nbunch=[n for (n, a) in g.nodes(data=True) if a.get(\"role\") == \"patron\"]).values())\n",
    "printers = pd.Series(nx.betweenness_centrality(g, nbunch=[n for (n, a) in g.nodes(data=True) if a.get(\"role\") == \"printer/editor\"]).values())\n",
    "signatories = pd.Series(nx.betweenness_centrality(g, nbunch=[n for (n, a) in g.nodes(data=True) if a.get(\"role\") == \"signatory\"]).values())"
   ]
  },
  {
   "cell_type": "code",
   "execution_count": null,
   "metadata": {
    "collapsed": true
   },
   "outputs": [],
   "source": [
    "df = pd.concat([authors, patrons, printers, signatories], axis=1, keys=[\"author\", \"patron\", \"printer\", \"signatory\"])\n",
    "desc = df.describe()"
   ]
  },
  {
   "cell_type": "code",
   "execution_count": null,
   "metadata": {
    "collapsed": true
   },
   "outputs": [],
   "source": [
    "a = [auth for auth in df[\"author\"] if not np.isnan(auth)]\n",
    "p = [auth for auth in df[\"patron\"] if not np.isnan(auth)]\n",
    "pr = [auth for auth in df[\"printer\"] if not np.isnan(auth)]\n",
    "s= [auth for auth in df[\"signatory\"] if not np.isnan(auth)]\n",
    "sns.boxplot([a,p,pr,s], names=[\"author\", \"patron\", \"printer\", \"signatory\"])"
   ]
  },
  {
   "cell_type": "code",
   "execution_count": null,
   "metadata": {
    "collapsed": true
   },
   "outputs": [],
   "source": []
  },
  {
   "cell_type": "code",
   "execution_count": null,
   "metadata": {
    "collapsed": true
   },
   "outputs": [],
   "source": []
  },
  {
   "cell_type": "code",
   "execution_count": null,
   "metadata": {
    "collapsed": true
   },
   "outputs": [],
   "source": []
  },
  {
   "cell_type": "code",
   "execution_count": null,
   "metadata": {
    "collapsed": true
   },
   "outputs": [],
   "source": []
  },
  {
   "cell_type": "code",
   "execution_count": null,
   "metadata": {
    "collapsed": false
   },
   "outputs": [],
   "source": [
    "g.nodes(data=True)"
   ]
  },
  {
   "cell_type": "code",
   "execution_count": null,
   "metadata": {
    "collapsed": false
   },
   "outputs": [],
   "source": [
    "cent_df = pd.DataFrame({\n",
    "    \"dc\": nx.degree_centrality(g).values(),    \n",
    "    \"bc\": bc.values(),\n",
    "    \"cc\": cc.values(),\n",
    "    \"ec\": ec.values(),\n",
    "})"
   ]
  },
  {
   "cell_type": "code",
   "execution_count": null,
   "metadata": {
    "collapsed": false
   },
   "outputs": [],
   "source": [
    "cent_df.hist(bins=20)"
   ]
  },
  {
   "cell_type": "code",
   "execution_count": null,
   "metadata": {
    "collapsed": false
   },
   "outputs": [],
   "source": [
    "pd.Series(bc.values()).hist()"
   ]
  },
  {
   "cell_type": "code",
   "execution_count": null,
   "metadata": {
    "collapsed": false
   },
   "outputs": [],
   "source": [
    "pd.Series(cc.values()).hist()"
   ]
  },
  {
   "cell_type": "code",
   "execution_count": null,
   "metadata": {
    "collapsed": false
   },
   "outputs": [],
   "source": [
    "pd.Series(ec.values()).hist()"
   ]
  },
  {
   "cell_type": "code",
   "execution_count": null,
   "metadata": {
    "collapsed": false
   },
   "outputs": [],
   "source": [
    "pd.Series(pr.values()).hist()"
   ]
  },
  {
   "cell_type": "markdown",
   "metadata": {},
   "source": [
    "### Assortativity"
   ]
  },
  {
   "cell_type": "markdown",
   "metadata": {},
   "source": [
    "#### Degree"
   ]
  },
  {
   "cell_type": "code",
   "execution_count": null,
   "metadata": {
    "collapsed": false
   },
   "outputs": [],
   "source": [
    "nx.degree_assortativity_coefficient(g)"
   ]
  },
  {
   "cell_type": "code",
   "execution_count": null,
   "metadata": {
    "collapsed": false
   },
   "outputs": [],
   "source": [
    "r = nx.degree_assortativity_coefficient(g)\n",
    "print(\"%3.1f\"%r)"
   ]
  },
  {
   "cell_type": "code",
   "execution_count": null,
   "metadata": {
    "collapsed": false
   },
   "outputs": [],
   "source": [
    "nodes_by_deg = sorted(deg, key=deg.get, reverse=True)\n",
    "mtrx = nx.to_numpy_matrix(g, nodelist=nodes_by_deg)\n",
    "sns.heatmap(mtrx)"
   ]
  },
  {
   "cell_type": "code",
   "execution_count": null,
   "metadata": {
    "collapsed": false
   },
   "outputs": [],
   "source": [
    "weight_sr = pd.Series([attrs[\"weight\"] for s, t, attrs in g.edges(data=True)])\n",
    "weight_sr.describe()"
   ]
  },
  {
   "cell_type": "code",
   "execution_count": null,
   "metadata": {
    "collapsed": false
   },
   "outputs": [],
   "source": [
    "quant = weight_sr.quantile(.75)"
   ]
  },
  {
   "cell_type": "code",
   "execution_count": null,
   "metadata": {
    "collapsed": false
   },
   "outputs": [],
   "source": [
    "plt.rcParams['figure.figsize'] = (17, 12)"
   ]
  },
  {
   "cell_type": "code",
   "execution_count": null,
   "metadata": {
    "collapsed": false
   },
   "outputs": [],
   "source": [
    "heatmap = plt.imshow(mtrx)\n",
    "heatmap.set_clim(0.0, quant)\n",
    "plt.colorbar()"
   ]
  },
  {
   "cell_type": "code",
   "execution_count": null,
   "metadata": {
    "collapsed": false
   },
   "outputs": [],
   "source": [
    "stripmtrx = mtrx[:, :100]"
   ]
  },
  {
   "cell_type": "code",
   "execution_count": null,
   "metadata": {
    "collapsed": false
   },
   "outputs": [],
   "source": [
    "heatmap = plt.imshow(stripmtrx)\n",
    "heatmap.set_clim(0.0, quant)\n",
    "plt.colorbar()"
   ]
  },
  {
   "cell_type": "code",
   "execution_count": null,
   "metadata": {
    "collapsed": false
   },
   "outputs": [],
   "source": [
    "zoommtrx = nx.to_numpy_matrix(g, nodelist=nodes_by_deg)[:50, :50]\n",
    "sns.heatmap(zoommtrx)"
   ]
  },
  {
   "cell_type": "code",
   "execution_count": null,
   "metadata": {
    "collapsed": false
   },
   "outputs": [],
   "source": [
    "zoomquant = pd.Series(zoommtrx.flatten().tolist()[0]).quantile(0.9)"
   ]
  },
  {
   "cell_type": "code",
   "execution_count": null,
   "metadata": {
    "collapsed": false
   },
   "outputs": [],
   "source": [
    "# heatmap = plt.imshow(zoommtrx)\n",
    "# heatmap.set_clim(0.0, zoomquant)\n",
    "# plt.colorbar()"
   ]
  },
  {
   "cell_type": "markdown",
   "metadata": {},
   "source": [
    "#### Attribute"
   ]
  },
  {
   "cell_type": "code",
   "execution_count": null,
   "metadata": {
    "collapsed": false
   },
   "outputs": [],
   "source": [
    "nx.attribute_assortativity_coefficient(g, \"top_place\")"
   ]
  },
  {
   "cell_type": "code",
   "execution_count": null,
   "metadata": {
    "collapsed": false
   },
   "outputs": [],
   "source": [
    "nx.attribute_assortativity_coefficient(g, \"top_genre\")"
   ]
  },
  {
   "cell_type": "code",
   "execution_count": null,
   "metadata": {
    "collapsed": false
   },
   "outputs": [],
   "source": [
    "nx.attribute_assortativity_coefficient(g, \"role\")"
   ]
  },
  {
   "cell_type": "code",
   "execution_count": null,
   "metadata": {
    "collapsed": false
   },
   "outputs": [],
   "source": [
    "len(g.edges())"
   ]
  },
  {
   "cell_type": "code",
   "execution_count": null,
   "metadata": {
    "collapsed": false
   },
   "outputs": [],
   "source": [
    "def edge_types(g):\n",
    "    tps = {}\n",
    "    for s, t, attrs in g.edges(data=True):\n",
    "        srole = g.node[s].get(\"role\", \"\")\n",
    "        trole = g.node[t].get(\"role\", \"\")\n",
    "        if srole and trole:\n",
    "            if (trole, srole) in tps:\n",
    "                tps[(trole, srole)].append(attrs[\"weight\"])\n",
    "            else:\n",
    "                tps.setdefault((srole, trole), [])\n",
    "                tps[(srole, trole)].append(attrs[\"weight\"])\n",
    "    return tps\n",
    "\n",
    "def edge_aggs(tps):\n",
    "    aggs = {}\n",
    "    for k, v in tps.items():\n",
    "        aggs[k] = (len(v) / 2174.0, sum(v) / len(v))\n",
    "    return aggs"
   ]
  },
  {
   "cell_type": "code",
   "execution_count": null,
   "metadata": {
    "collapsed": false
   },
   "outputs": [],
   "source": [
    "etps = edge_types(g)\n",
    "aggs = edge_aggs(etps)"
   ]
  },
  {
   "cell_type": "code",
   "execution_count": null,
   "metadata": {
    "collapsed": false
   },
   "outputs": [],
   "source": [
    "aggs"
   ]
  },
  {
   "cell_type": "code",
   "execution_count": null,
   "metadata": {
    "collapsed": false
   },
   "outputs": [],
   "source": [
    "2174 * 0.025"
   ]
  },
  {
   "cell_type": "code",
   "execution_count": null,
   "metadata": {
    "collapsed": false
   },
   "outputs": [],
   "source": [
    "pd.Series(etps[(u'patron', u'author')]).plot(kind=\"box\")"
   ]
  },
  {
   "cell_type": "markdown",
   "metadata": {},
   "source": [
    "### Clustering"
   ]
  },
  {
   "cell_type": "code",
   "execution_count": null,
   "metadata": {
    "collapsed": false
   },
   "outputs": [],
   "source": [
    "nx.average_clustering(g)"
   ]
  },
  {
   "cell_type": "code",
   "execution_count": null,
   "metadata": {
    "collapsed": false
   },
   "outputs": [],
   "source": [
    "pd.Series(nx.clustering(g).values()).hist()"
   ]
  },
  {
   "cell_type": "code",
   "execution_count": null,
   "metadata": {
    "collapsed": false
   },
   "outputs": [],
   "source": [
    "nx.transitivity(g)"
   ]
  },
  {
   "cell_type": "markdown",
   "metadata": {},
   "source": [
    "### Paths"
   ]
  },
  {
   "cell_type": "code",
   "execution_count": null,
   "metadata": {
    "collapsed": false
   },
   "outputs": [],
   "source": [
    "nx.diameter(g)"
   ]
  },
  {
   "cell_type": "code",
   "execution_count": null,
   "metadata": {
    "collapsed": false
   },
   "outputs": [],
   "source": [
    "nx.average_shortest_path_length(g)"
   ]
  }
 ],
 "metadata": {
  "kernelspec": {
   "display_name": "Python 2",
   "language": "python",
   "name": "python2"
  },
  "language_info": {
   "codemirror_mode": {
    "name": "ipython",
    "version": 2
   },
   "file_extension": ".py",
   "mimetype": "text/x-python",
   "name": "python",
   "nbconvert_exporter": "python",
   "pygments_lexer": "ipython2",
   "version": "2.7.6"
  }
 },
 "nbformat": 4,
 "nbformat_minor": 0
}
